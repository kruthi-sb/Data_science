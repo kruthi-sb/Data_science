{
 "cells": [
  {
   "cell_type": "markdown",
   "metadata": {},
   "source": [
    "# Data Cleaning and Feature Selection"
   ]
  },
  {
   "cell_type": "markdown",
   "metadata": {},
   "source": [
    "## Imports"
   ]
  },
  {
   "cell_type": "code",
   "execution_count": 31,
   "metadata": {},
   "outputs": [],
   "source": [
    "import numpy as np, pandas as pd, matplotlib.pyplot as plt, seaborn as sns"
   ]
  },
  {
   "cell_type": "markdown",
   "metadata": {},
   "source": [
    "## Data Cleaning"
   ]
  },
  {
   "cell_type": "markdown",
   "metadata": {},
   "source": [
    "### 1. Outliers"
   ]
  },
  {
   "cell_type": "markdown",
   "metadata": {},
   "source": [
    "Standard deviation method"
   ]
  },
  {
   "cell_type": "code",
   "execution_count": 32,
   "metadata": {},
   "outputs": [
    {
     "data": {
      "image/png": "[encoded data removed]",
      "text/plain": [
       "<Figure size 400x300 with 1 Axes>"
      ]
     },
     "metadata": {},
     "output_type": "display_data"
    },
    {
     "name": "stdout",
     "output_type": "stream",
     "text": [
      "Mean =  5.944444444444445 \n",
      "Std =  11.007432954459162\n",
      "Outliers:\n",
      " [50]\n"
     ]
    }
   ],
   "source": [
    "data = [1, 2, 5, 6, 3, 1, 1, 7, 2, 2, 2, 3, 1, 1, 2, 8, 10, 50]\n",
    "\n",
    "# construct boxplot to see if there are outliers:\n",
    "plt.figure(figsize = (4,3))\n",
    "plt.boxplot(data, vert = False)\n",
    "plt.show()\n",
    "\n",
    "# get the mean and standard deviation of the data:\n",
    "mean = np.mean(data)\n",
    "std = np.std(data)\n",
    "print(\"Mean = \", mean, \"\\nStd = \", std)\n",
    "\n",
    "# define threshold of z score and get the outliers\n",
    "threshold = 3\n",
    "outliers = []\n",
    "for i in data:\n",
    "    z = (i - mean)/ std\n",
    "    if z > threshold:\n",
    "        outliers.append(i)\n",
    "\n",
    "print(\"Outliers:\\n\", outliers)\n"
   ]
  },
  {
   "cell_type": "markdown",
   "metadata": {},
   "source": [
    "Interquartile range method"
   ]
  },
  {
   "cell_type": "code",
   "execution_count": 33,
   "metadata": {},
   "outputs": [
    {
     "data": {
      "image/png": "[encoded data removed]",
      "text/plain": [
       "<Figure size 400x300 with 1 Axes>"
      ]
     },
     "metadata": {},
     "output_type": "display_data"
    },
    {
     "name": "stdout",
     "output_type": "stream",
     "text": [
      "Quartile values using numpy:\n",
      "Q1 =  7.25 \n",
      "Q3 =  11.75\n",
      "Quartile values using pandas:\n",
      "Q1_pd =  7.25 \n",
      "Q3_pd =  11.75\n",
      "\n",
      "Boundaries:\n",
      "lower =  0.5 \n",
      "upper =  18.5\n",
      "\n",
      "Outliers:  [-1 30 50]\n"
     ]
    }
   ],
   "source": [
    "# define data\n",
    "data = np.array([-1, 1, 7, 8, 9, 10, 11, 12, 30, 50])\n",
    "\n",
    "# boxplot\n",
    "plt.figure(figsize = (4,3))\n",
    "plt.boxplot(data, vert = False)\n",
    "plt.show()\n",
    "\n",
    "# get quartile values using numpy\n",
    "Q1, Q3 = np.percentile(data, (25, 75))\n",
    "print(\"Quartile values using numpy:\")\n",
    "print(\"Q1 = \", Q1, \"\\nQ3 = \", Q3)\n",
    "\n",
    "# get quartile values using pandas\n",
    "import pandas as pd\n",
    "data_df = pd.DataFrame(data)\n",
    "Q1_pd = data_df.quantile(0.25)\n",
    "Q3_pd = data_df.quantile(0.75)\n",
    "print(\"Quartile values using pandas:\")\n",
    "print(\"Q1_pd = \", Q1_pd[0], \"\\nQ3_pd = \", Q3_pd[0])\n",
    "\n",
    "# calculate IQR and boundry values:\n",
    "IQR = Q3 - Q1\n",
    "lower_bound = Q1 - (1.5*IQR)\n",
    "upper_bound = Q3 + (1.5*IQR)\n",
    "print(\"\\nBoundaries:\")\n",
    "print(\"lower = \", lower_bound, \"\\nupper = \", upper_bound)\n",
    "\n",
    "# create conditions to isolate the outliers\n",
    "outliers = data[(data < lower_bound)| (data> upper_bound)]\n",
    "print(\"\\nOutliers: \", outliers)"
   ]
  },
  {
   "cell_type": "markdown",
   "metadata": {},
   "source": [
    "Automatic outlier detection"
   ]
  },
  {
   "cell_type": "code",
   "execution_count": 34,
   "metadata": {},
   "outputs": [
    {
     "name": "stdout",
     "output_type": "stream",
     "text": [
      "['sepal length (cm)', 'sepal width (cm)', 'petal length (cm)', 'petal width (cm)']\n",
      "Anomalies: \n",
      "     sepal length (cm)  sepal width (cm)  petal length (cm)  petal width (cm)  \\\n",
      "8                 4.4               2.9                1.4               0.2   \n",
      "13                4.3               3.0                1.1               0.1   \n",
      "38                4.4               3.0                1.3               0.2   \n",
      "\n",
      "      scores  anomaly  \n",
      "8  -0.013487       -1  \n",
      "13 -0.147557       -1  \n",
      "38 -0.013487       -1  \n",
      "\n",
      "Outlier Count:  15\n"
     ]
    },
    {
     "name": "stderr",
     "output_type": "stream",
     "text": [
      "[Parallel(n_jobs=1)]: Using backend SequentialBackend with 1 concurrent workers.\n",
      "[Parallel(n_jobs=1)]: Done   1 out of   1 | elapsed:    0.0s finished\n",
      "c:\\Users\\kruth\\AppData\\Local\\Programs\\Python\\Python311\\Lib\\site-packages\\sklearn\\base.py:409: UserWarning: X does not have valid feature names, but IsolationForest was fitted with feature names\n",
      "  warnings.warn(\n"
     ]
    }
   ],
   "source": [
    "from sklearn.ensemble import IsolationForest\n",
    "from sklearn.datasets import load_iris\n",
    "\n",
    "# iris info\n",
    "df,y = load_iris(return_X_y=True, as_frame=True)\n",
    "df1 = df.copy()\n",
    "df2 = df.copy()\n",
    "data_info = load_iris()\n",
    "features = data_info[\"feature_names\"]\n",
    "print(features)\n",
    "\n",
    "# create a model and fit it to the data\n",
    "model = IsolationForest(n_estimators=50, \n",
    "                        max_samples='auto', \n",
    "                        contamination=float(0.1),\n",
    "                        max_features=1, \n",
    "                        verbose = 1)\n",
    "\n",
    "model.fit(df[['sepal length (cm)']])\n",
    "\n",
    "# add other columns scores and anomaly\n",
    "df[\"scores\"] = model.decision_function(df[[\"sepal length (cm)\"]])\n",
    "df[\"anomaly\"] = model.predict(df[[\"sepal length (cm)\"]])\n",
    "#print(df.head(5))\n",
    "\n",
    "# get the data points where anomaly = -1:\n",
    "anomalies = df.loc[df[\"anomaly\"]==-1]\n",
    "print(\"Anomalies: \\n\", anomalies[:3])\n",
    "outliers_count = len(anomalies)\n",
    "print(\"\\nOutlier Count: \", outliers_count)"
   ]
  },
  {
   "cell_type": "markdown",
   "metadata": {},
   "source": [
    "### 2. Missing Values"
   ]
  },
  {
   "cell_type": "code",
   "execution_count": 35,
   "metadata": {},
   "outputs": [
    {
     "data": {
      "text/html": [
       "<div>\n",
       "<style scoped>\n",
       "    .dataframe tbody tr th:only-of-type {\n",
       "        vertical-align: middle;\n",
       "    }\n",
       "\n",
       "    .dataframe tbody tr th {\n",
       "        vertical-align: top;\n",
       "    }\n",
       "\n",
       "    .dataframe thead th {\n",
       "        text-align: right;\n",
       "    }\n",
       "</style>\n",
       "<table border=\"1\" class=\"dataframe\">\n",
       "  <thead>\n",
       "    <tr style=\"text-align: right;\">\n",
       "      <th></th>\n",
       "      <th>sepal length (cm)</th>\n",
       "      <th>sepal width (cm)</th>\n",
       "      <th>petal length (cm)</th>\n",
       "      <th>petal width (cm)</th>\n",
       "    </tr>\n",
       "  </thead>\n",
       "  <tbody>\n",
       "    <tr>\n",
       "      <th>0</th>\n",
       "      <td>NaN</td>\n",
       "      <td>3.5</td>\n",
       "      <td>1.4</td>\n",
       "      <td>0.2</td>\n",
       "    </tr>\n",
       "    <tr>\n",
       "      <th>1</th>\n",
       "      <td>NaN</td>\n",
       "      <td>3.0</td>\n",
       "      <td>1.4</td>\n",
       "      <td>0.2</td>\n",
       "    </tr>\n",
       "    <tr>\n",
       "      <th>2</th>\n",
       "      <td>NaN</td>\n",
       "      <td>3.2</td>\n",
       "      <td>NaN</td>\n",
       "      <td>0.2</td>\n",
       "    </tr>\n",
       "    <tr>\n",
       "      <th>3</th>\n",
       "      <td>NaN</td>\n",
       "      <td>3.1</td>\n",
       "      <td>NaN</td>\n",
       "      <td>0.2</td>\n",
       "    </tr>\n",
       "    <tr>\n",
       "      <th>4</th>\n",
       "      <td>NaN</td>\n",
       "      <td>3.6</td>\n",
       "      <td>NaN</td>\n",
       "      <td>0.2</td>\n",
       "    </tr>\n",
       "    <tr>\n",
       "      <th>5</th>\n",
       "      <td>NaN</td>\n",
       "      <td>3.9</td>\n",
       "      <td>NaN</td>\n",
       "      <td>0.4</td>\n",
       "    </tr>\n",
       "    <tr>\n",
       "      <th>6</th>\n",
       "      <td>4.6</td>\n",
       "      <td>3.4</td>\n",
       "      <td>1.4</td>\n",
       "      <td>0.3</td>\n",
       "    </tr>\n",
       "    <tr>\n",
       "      <th>7</th>\n",
       "      <td>5.0</td>\n",
       "      <td>3.4</td>\n",
       "      <td>1.5</td>\n",
       "      <td>0.2</td>\n",
       "    </tr>\n",
       "  </tbody>\n",
       "</table>\n",
       "</div>"
      ],
      "text/plain": [
       "   sepal length (cm)  sepal width (cm)  petal length (cm)  petal width (cm)\n",
       "0                NaN               3.5                1.4               0.2\n",
       "1                NaN               3.0                1.4               0.2\n",
       "2                NaN               3.2                NaN               0.2\n",
       "3                NaN               3.1                NaN               0.2\n",
       "4                NaN               3.6                NaN               0.2\n",
       "5                NaN               3.9                NaN               0.4\n",
       "6                4.6               3.4                1.4               0.3\n",
       "7                5.0               3.4                1.5               0.2"
      ]
     },
     "execution_count": 35,
     "metadata": {},
     "output_type": "execute_result"
    }
   ],
   "source": [
    "for i in range(6):\n",
    "    df1.loc[0:i,'sepal length (cm)'] = np.NaN\n",
    "\n",
    "for i in range(2,6):\n",
    "    df1.loc[2:i,'petal length (cm)'] = np.NaN\n",
    "\n",
    "df1.head(8)"
   ]
  },
  {
   "cell_type": "markdown",
   "metadata": {},
   "source": [
    "Iterative Imputation:\n",
    "- The approach is called MICE - Multivariate Imputation by Chained Equations.\n",
    "- each feature is modelled as a function of the other features.\n",
    "- this is performed in a round-robin fashion\n",
    "- first all the missing values in the dataset are set to some stat value.\n",
    "- then, the 1st col with missing value is considered as the target variable and rest and used for training the model\n",
    "- the model by default is Bayesian Ridge Regression which performs regression task to find the missing values.\n",
    "- the same process is repeated for all the columns with missing values.\n",
    "- this iterative process is repeated for a number of times (default is 10).\n",
    "- the algorithm converges after these iterations complete and the missing values and estimated iteratively."
   ]
  },
  {
   "cell_type": "markdown",
   "metadata": {},
   "source": [
    "All imputations:"
   ]
  },
  {
   "cell_type": "code",
   "execution_count": 36,
   "metadata": {},
   "outputs": [],
   "source": [
    "from sklearn.experimental import enable_iterative_imputer\n",
    "from sklearn.impute import SimpleImputer, IterativeImputer, KNNImputer\n",
    "\n",
    "s_chi2 = SimpleImputer( missing_values=np.NaN, strategy=\"mean\")\n",
    "i = IterativeImputer(imputation_order='ascending')\n",
    "k = KNNImputer(n_neighbors=3)\n",
    "\n",
    "s_chi2.fit(df1)\n",
    "i.fit(df1)\n",
    "k.fit(df1)\n",
    "\n",
    "df_si = pd.DataFrame(s_chi2.transform(df1), columns=features)\n",
    "df_ii = pd.DataFrame(i.transform(df1), columns=features)\n",
    "df_ki = pd.DataFrame(k.transform(df1), columns=features)"
   ]
  },
  {
   "cell_type": "code",
   "execution_count": 37,
   "metadata": {},
   "outputs": [
    {
     "data": {
      "text/html": [
       "<div>\n",
       "<style scoped>\n",
       "    .dataframe tbody tr th:only-of-type {\n",
       "        vertical-align: middle;\n",
       "    }\n",
       "\n",
       "    .dataframe tbody tr th {\n",
       "        vertical-align: top;\n",
       "    }\n",
       "\n",
       "    .dataframe thead th {\n",
       "        text-align: right;\n",
       "    }\n",
       "</style>\n",
       "<table border=\"1\" class=\"dataframe\">\n",
       "  <thead>\n",
       "    <tr style=\"text-align: right;\">\n",
       "      <th></th>\n",
       "      <th>sepal length (cm)</th>\n",
       "      <th>sepal width (cm)</th>\n",
       "      <th>petal length (cm)</th>\n",
       "      <th>petal width (cm)</th>\n",
       "    </tr>\n",
       "  </thead>\n",
       "  <tbody>\n",
       "    <tr>\n",
       "      <th>0</th>\n",
       "      <td>NaN</td>\n",
       "      <td>3.5</td>\n",
       "      <td>1.4</td>\n",
       "      <td>0.2</td>\n",
       "    </tr>\n",
       "    <tr>\n",
       "      <th>1</th>\n",
       "      <td>NaN</td>\n",
       "      <td>3.0</td>\n",
       "      <td>1.4</td>\n",
       "      <td>0.2</td>\n",
       "    </tr>\n",
       "    <tr>\n",
       "      <th>2</th>\n",
       "      <td>NaN</td>\n",
       "      <td>3.2</td>\n",
       "      <td>NaN</td>\n",
       "      <td>0.2</td>\n",
       "    </tr>\n",
       "    <tr>\n",
       "      <th>3</th>\n",
       "      <td>NaN</td>\n",
       "      <td>3.1</td>\n",
       "      <td>NaN</td>\n",
       "      <td>0.2</td>\n",
       "    </tr>\n",
       "    <tr>\n",
       "      <th>4</th>\n",
       "      <td>NaN</td>\n",
       "      <td>3.6</td>\n",
       "      <td>NaN</td>\n",
       "      <td>0.2</td>\n",
       "    </tr>\n",
       "    <tr>\n",
       "      <th>5</th>\n",
       "      <td>NaN</td>\n",
       "      <td>3.9</td>\n",
       "      <td>NaN</td>\n",
       "      <td>0.4</td>\n",
       "    </tr>\n",
       "    <tr>\n",
       "      <th>6</th>\n",
       "      <td>4.6</td>\n",
       "      <td>3.4</td>\n",
       "      <td>1.4</td>\n",
       "      <td>0.3</td>\n",
       "    </tr>\n",
       "  </tbody>\n",
       "</table>\n",
       "</div>"
      ],
      "text/plain": [
       "   sepal length (cm)  sepal width (cm)  petal length (cm)  petal width (cm)\n",
       "0                NaN               3.5                1.4               0.2\n",
       "1                NaN               3.0                1.4               0.2\n",
       "2                NaN               3.2                NaN               0.2\n",
       "3                NaN               3.1                NaN               0.2\n",
       "4                NaN               3.6                NaN               0.2\n",
       "5                NaN               3.9                NaN               0.4\n",
       "6                4.6               3.4                1.4               0.3"
      ]
     },
     "execution_count": 37,
     "metadata": {},
     "output_type": "execute_result"
    }
   ],
   "source": [
    "df1.head(7)"
   ]
  },
  {
   "cell_type": "code",
   "execution_count": 38,
   "metadata": {},
   "outputs": [
    {
     "data": {
      "text/html": [
       "<div>\n",
       "<style scoped>\n",
       "    .dataframe tbody tr th:only-of-type {\n",
       "        vertical-align: middle;\n",
       "    }\n",
       "\n",
       "    .dataframe tbody tr th {\n",
       "        vertical-align: top;\n",
       "    }\n",
       "\n",
       "    .dataframe thead th {\n",
       "        text-align: right;\n",
       "    }\n",
       "</style>\n",
       "<table border=\"1\" class=\"dataframe\">\n",
       "  <thead>\n",
       "    <tr style=\"text-align: right;\">\n",
       "      <th></th>\n",
       "      <th>sepal length (cm)</th>\n",
       "      <th>sepal width (cm)</th>\n",
       "      <th>petal length (cm)</th>\n",
       "      <th>petal width (cm)</th>\n",
       "    </tr>\n",
       "  </thead>\n",
       "  <tbody>\n",
       "    <tr>\n",
       "      <th>0</th>\n",
       "      <td>5.1</td>\n",
       "      <td>3.5</td>\n",
       "      <td>1.4</td>\n",
       "      <td>0.2</td>\n",
       "    </tr>\n",
       "    <tr>\n",
       "      <th>1</th>\n",
       "      <td>4.9</td>\n",
       "      <td>3.0</td>\n",
       "      <td>1.4</td>\n",
       "      <td>0.2</td>\n",
       "    </tr>\n",
       "    <tr>\n",
       "      <th>2</th>\n",
       "      <td>4.7</td>\n",
       "      <td>3.2</td>\n",
       "      <td>1.3</td>\n",
       "      <td>0.2</td>\n",
       "    </tr>\n",
       "    <tr>\n",
       "      <th>3</th>\n",
       "      <td>4.6</td>\n",
       "      <td>3.1</td>\n",
       "      <td>1.5</td>\n",
       "      <td>0.2</td>\n",
       "    </tr>\n",
       "    <tr>\n",
       "      <th>4</th>\n",
       "      <td>5.0</td>\n",
       "      <td>3.6</td>\n",
       "      <td>1.4</td>\n",
       "      <td>0.2</td>\n",
       "    </tr>\n",
       "    <tr>\n",
       "      <th>5</th>\n",
       "      <td>5.4</td>\n",
       "      <td>3.9</td>\n",
       "      <td>1.7</td>\n",
       "      <td>0.4</td>\n",
       "    </tr>\n",
       "    <tr>\n",
       "      <th>6</th>\n",
       "      <td>4.6</td>\n",
       "      <td>3.4</td>\n",
       "      <td>1.4</td>\n",
       "      <td>0.3</td>\n",
       "    </tr>\n",
       "  </tbody>\n",
       "</table>\n",
       "</div>"
      ],
      "text/plain": [
       "   sepal length (cm)  sepal width (cm)  petal length (cm)  petal width (cm)\n",
       "0                5.1               3.5                1.4               0.2\n",
       "1                4.9               3.0                1.4               0.2\n",
       "2                4.7               3.2                1.3               0.2\n",
       "3                4.6               3.1                1.5               0.2\n",
       "4                5.0               3.6                1.4               0.2\n",
       "5                5.4               3.9                1.7               0.4\n",
       "6                4.6               3.4                1.4               0.3"
      ]
     },
     "execution_count": 38,
     "metadata": {},
     "output_type": "execute_result"
    }
   ],
   "source": [
    "df2.head(7)"
   ]
  },
  {
   "cell_type": "code",
   "execution_count": 39,
   "metadata": {},
   "outputs": [
    {
     "data": {
      "text/html": [
       "<div>\n",
       "<style scoped>\n",
       "    .dataframe tbody tr th:only-of-type {\n",
       "        vertical-align: middle;\n",
       "    }\n",
       "\n",
       "    .dataframe tbody tr th {\n",
       "        vertical-align: top;\n",
       "    }\n",
       "\n",
       "    .dataframe thead th {\n",
       "        text-align: right;\n",
       "    }\n",
       "</style>\n",
       "<table border=\"1\" class=\"dataframe\">\n",
       "  <thead>\n",
       "    <tr style=\"text-align: right;\">\n",
       "      <th></th>\n",
       "      <th>sepal length (cm)</th>\n",
       "      <th>sepal width (cm)</th>\n",
       "      <th>petal length (cm)</th>\n",
       "      <th>petal width (cm)</th>\n",
       "    </tr>\n",
       "  </thead>\n",
       "  <tbody>\n",
       "    <tr>\n",
       "      <th>0</th>\n",
       "      <td>5.880556</td>\n",
       "      <td>3.5</td>\n",
       "      <td>1.400000</td>\n",
       "      <td>0.2</td>\n",
       "    </tr>\n",
       "    <tr>\n",
       "      <th>1</th>\n",
       "      <td>5.880556</td>\n",
       "      <td>3.0</td>\n",
       "      <td>1.400000</td>\n",
       "      <td>0.2</td>\n",
       "    </tr>\n",
       "    <tr>\n",
       "      <th>2</th>\n",
       "      <td>5.880556</td>\n",
       "      <td>3.2</td>\n",
       "      <td>3.820548</td>\n",
       "      <td>0.2</td>\n",
       "    </tr>\n",
       "    <tr>\n",
       "      <th>3</th>\n",
       "      <td>5.880556</td>\n",
       "      <td>3.1</td>\n",
       "      <td>3.820548</td>\n",
       "      <td>0.2</td>\n",
       "    </tr>\n",
       "    <tr>\n",
       "      <th>4</th>\n",
       "      <td>5.880556</td>\n",
       "      <td>3.6</td>\n",
       "      <td>3.820548</td>\n",
       "      <td>0.2</td>\n",
       "    </tr>\n",
       "    <tr>\n",
       "      <th>5</th>\n",
       "      <td>5.880556</td>\n",
       "      <td>3.9</td>\n",
       "      <td>3.820548</td>\n",
       "      <td>0.4</td>\n",
       "    </tr>\n",
       "    <tr>\n",
       "      <th>6</th>\n",
       "      <td>4.600000</td>\n",
       "      <td>3.4</td>\n",
       "      <td>1.400000</td>\n",
       "      <td>0.3</td>\n",
       "    </tr>\n",
       "  </tbody>\n",
       "</table>\n",
       "</div>"
      ],
      "text/plain": [
       "   sepal length (cm)  sepal width (cm)  petal length (cm)  petal width (cm)\n",
       "0           5.880556               3.5           1.400000               0.2\n",
       "1           5.880556               3.0           1.400000               0.2\n",
       "2           5.880556               3.2           3.820548               0.2\n",
       "3           5.880556               3.1           3.820548               0.2\n",
       "4           5.880556               3.6           3.820548               0.2\n",
       "5           5.880556               3.9           3.820548               0.4\n",
       "6           4.600000               3.4           1.400000               0.3"
      ]
     },
     "execution_count": 39,
     "metadata": {},
     "output_type": "execute_result"
    }
   ],
   "source": [
    "df_si.head(7)"
   ]
  },
  {
   "cell_type": "code",
   "execution_count": 40,
   "metadata": {},
   "outputs": [
    {
     "data": {
      "text/html": [
       "<div>\n",
       "<style scoped>\n",
       "    .dataframe tbody tr th:only-of-type {\n",
       "        vertical-align: middle;\n",
       "    }\n",
       "\n",
       "    .dataframe tbody tr th {\n",
       "        vertical-align: top;\n",
       "    }\n",
       "\n",
       "    .dataframe thead th {\n",
       "        text-align: right;\n",
       "    }\n",
       "</style>\n",
       "<table border=\"1\" class=\"dataframe\">\n",
       "  <thead>\n",
       "    <tr style=\"text-align: right;\">\n",
       "      <th></th>\n",
       "      <th>sepal length (cm)</th>\n",
       "      <th>sepal width (cm)</th>\n",
       "      <th>petal length (cm)</th>\n",
       "      <th>petal width (cm)</th>\n",
       "    </tr>\n",
       "  </thead>\n",
       "  <tbody>\n",
       "    <tr>\n",
       "      <th>0</th>\n",
       "      <td>5.014158</td>\n",
       "      <td>3.5</td>\n",
       "      <td>1.400000</td>\n",
       "      <td>0.2</td>\n",
       "    </tr>\n",
       "    <tr>\n",
       "      <th>1</th>\n",
       "      <td>4.694441</td>\n",
       "      <td>3.0</td>\n",
       "      <td>1.400000</td>\n",
       "      <td>0.2</td>\n",
       "    </tr>\n",
       "    <tr>\n",
       "      <th>2</th>\n",
       "      <td>4.936532</td>\n",
       "      <td>3.2</td>\n",
       "      <td>1.564903</td>\n",
       "      <td>0.2</td>\n",
       "    </tr>\n",
       "    <tr>\n",
       "      <th>3</th>\n",
       "      <td>4.897632</td>\n",
       "      <td>3.1</td>\n",
       "      <td>1.601065</td>\n",
       "      <td>0.2</td>\n",
       "    </tr>\n",
       "    <tr>\n",
       "      <th>4</th>\n",
       "      <td>5.092129</td>\n",
       "      <td>3.6</td>\n",
       "      <td>1.420255</td>\n",
       "      <td>0.2</td>\n",
       "    </tr>\n",
       "    <tr>\n",
       "      <th>5</th>\n",
       "      <td>5.401864</td>\n",
       "      <td>3.9</td>\n",
       "      <td>1.740926</td>\n",
       "      <td>0.4</td>\n",
       "    </tr>\n",
       "    <tr>\n",
       "      <th>6</th>\n",
       "      <td>4.600000</td>\n",
       "      <td>3.4</td>\n",
       "      <td>1.400000</td>\n",
       "      <td>0.3</td>\n",
       "    </tr>\n",
       "  </tbody>\n",
       "</table>\n",
       "</div>"
      ],
      "text/plain": [
       "   sepal length (cm)  sepal width (cm)  petal length (cm)  petal width (cm)\n",
       "0           5.014158               3.5           1.400000               0.2\n",
       "1           4.694441               3.0           1.400000               0.2\n",
       "2           4.936532               3.2           1.564903               0.2\n",
       "3           4.897632               3.1           1.601065               0.2\n",
       "4           5.092129               3.6           1.420255               0.2\n",
       "5           5.401864               3.9           1.740926               0.4\n",
       "6           4.600000               3.4           1.400000               0.3"
      ]
     },
     "execution_count": 40,
     "metadata": {},
     "output_type": "execute_result"
    }
   ],
   "source": [
    "df_ii.head(7)"
   ]
  },
  {
   "cell_type": "code",
   "execution_count": 41,
   "metadata": {},
   "outputs": [
    {
     "data": {
      "text/html": [
       "<div>\n",
       "<style scoped>\n",
       "    .dataframe tbody tr th:only-of-type {\n",
       "        vertical-align: middle;\n",
       "    }\n",
       "\n",
       "    .dataframe tbody tr th {\n",
       "        vertical-align: top;\n",
       "    }\n",
       "\n",
       "    .dataframe thead th {\n",
       "        text-align: right;\n",
       "    }\n",
       "</style>\n",
       "<table border=\"1\" class=\"dataframe\">\n",
       "  <thead>\n",
       "    <tr style=\"text-align: right;\">\n",
       "      <th></th>\n",
       "      <th>sepal length (cm)</th>\n",
       "      <th>sepal width (cm)</th>\n",
       "      <th>petal length (cm)</th>\n",
       "      <th>petal width (cm)</th>\n",
       "    </tr>\n",
       "  </thead>\n",
       "  <tbody>\n",
       "    <tr>\n",
       "      <th>0</th>\n",
       "      <td>5.300000</td>\n",
       "      <td>3.5</td>\n",
       "      <td>1.400000</td>\n",
       "      <td>0.2</td>\n",
       "    </tr>\n",
       "    <tr>\n",
       "      <th>1</th>\n",
       "      <td>4.533333</td>\n",
       "      <td>3.0</td>\n",
       "      <td>1.400000</td>\n",
       "      <td>0.2</td>\n",
       "    </tr>\n",
       "    <tr>\n",
       "      <th>2</th>\n",
       "      <td>4.700000</td>\n",
       "      <td>3.2</td>\n",
       "      <td>1.366667</td>\n",
       "      <td>0.2</td>\n",
       "    </tr>\n",
       "    <tr>\n",
       "      <th>3</th>\n",
       "      <td>4.900000</td>\n",
       "      <td>3.1</td>\n",
       "      <td>1.433333</td>\n",
       "      <td>0.2</td>\n",
       "    </tr>\n",
       "    <tr>\n",
       "      <th>4</th>\n",
       "      <td>5.000000</td>\n",
       "      <td>3.6</td>\n",
       "      <td>1.233333</td>\n",
       "      <td>0.2</td>\n",
       "    </tr>\n",
       "    <tr>\n",
       "      <th>5</th>\n",
       "      <td>5.400000</td>\n",
       "      <td>3.9</td>\n",
       "      <td>1.633333</td>\n",
       "      <td>0.4</td>\n",
       "    </tr>\n",
       "    <tr>\n",
       "      <th>6</th>\n",
       "      <td>4.600000</td>\n",
       "      <td>3.4</td>\n",
       "      <td>1.400000</td>\n",
       "      <td>0.3</td>\n",
       "    </tr>\n",
       "  </tbody>\n",
       "</table>\n",
       "</div>"
      ],
      "text/plain": [
       "   sepal length (cm)  sepal width (cm)  petal length (cm)  petal width (cm)\n",
       "0           5.300000               3.5           1.400000               0.2\n",
       "1           4.533333               3.0           1.400000               0.2\n",
       "2           4.700000               3.2           1.366667               0.2\n",
       "3           4.900000               3.1           1.433333               0.2\n",
       "4           5.000000               3.6           1.233333               0.2\n",
       "5           5.400000               3.9           1.633333               0.4\n",
       "6           4.600000               3.4           1.400000               0.3"
      ]
     },
     "execution_count": 41,
     "metadata": {},
     "output_type": "execute_result"
    }
   ],
   "source": [
    "df_ki.head(7)"
   ]
  },
  {
   "cell_type": "markdown",
   "metadata": {},
   "source": [
    "### Feature Selection"
   ]
  },
  {
   "cell_type": "markdown",
   "metadata": {},
   "source": [
    "1. Intrinsic Methods - L1 and L2 regularization, Tree based methods, Neural Networks\n",
    "2. Wrapper Methods - Forward, Backward, Recursive Feature Elimination\n",
    "3. Filter Methods - Correlations (Pearson, Spearman), ANOVA, Kendall's Tau, Chi-Square, Mutual Information"
   ]
  },
  {
   "cell_type": "markdown",
   "metadata": {},
   "source": [
    "Filter Methods Categorization:\n",
    "\n",
    "1. Numerical Input, Numerical Output\n",
    "    - Pearson's Correlation Coefficient (linear): -1 to 1 correlation coefficient\n",
    "    - Spearman's Rank Correlation Coefficient (nonlinear): monotonically increasing or decreasing relationship\n",
    "    - Kendall's Rank Correlation Coefficient (nonlinear): measures strength and direction of variables\n",
    "\n",
    "2. Numerical Input, Categorical Output\n",
    "    - ANOVA f-test: comparing the means of 2 or more groups and checking if they are similar or not. \n",
    "    - Kendall's Tau: measures strength and direction of variables\n",
    "\n",
    "3. Categorical Input, Numerical Output\n",
    "    - ANOVA f-test: comparing the means of 2 or more groups and checking if they are similar or not. \n",
    "    - Kendall's Tau: measures strength and direction of variables\n",
    "\n",
    "4. Categorical Input, Categorical Output\n",
    "    - Chi-Square: comparing the observed frequencies with the expected frequencies of categorical variables to check if they are similar or not.\n",
    "    - Mutual Information: measures the amount of information obtained about one variable through observing the other variable.\n",
    "\n",
    "Note: Mutual Information can be used for all types of input and output variables."
   ]
  },
  {
   "cell_type": "code",
   "execution_count": 42,
   "metadata": {},
   "outputs": [
    {
     "name": "stdout",
     "output_type": "stream",
     "text": [
      "            0\n",
      "0   10.817821\n",
      "1    3.710728\n",
      "2  116.312613\n",
      "3   67.048360\n"
     ]
    }
   ],
   "source": [
    "from sklearn.feature_selection import SelectKBest, chi2, f_classif, mutual_info_classif, f_regression, mutual_info_regression\n",
    "\n",
    "s_chi2 = SelectKBest(score_func=chi2, k=2)\n",
    "s_chi2.fit(df2, y)\n",
    "df2_scores = pd.DataFrame(s_chi2.scores_)\n",
    "print(df2_scores)"
   ]
  },
  {
   "cell_type": "code",
   "execution_count": 43,
   "metadata": {},
   "outputs": [
    {
     "name": "stdout",
     "output_type": "stream",
     "text": [
      "             0\n",
      "0   119.264502\n",
      "1    49.160040\n",
      "2  1180.161182\n",
      "3   960.007147\n"
     ]
    }
   ],
   "source": [
    "s_f_classif = SelectKBest(score_func=f_classif, k=2)\n",
    "s_f_classif.fit(df2, y)\n",
    "df2_scores = pd.DataFrame(s_f_classif.scores_)\n",
    "print(df2_scores)"
   ]
  },
  {
   "cell_type": "code",
   "execution_count": 44,
   "metadata": {},
   "outputs": [
    {
     "name": "stdout",
     "output_type": "stream",
     "text": [
      "          0\n",
      "0  0.503158\n",
      "1  0.251047\n",
      "2  0.991055\n",
      "3  0.992513\n"
     ]
    }
   ],
   "source": [
    "s_mutual_info_classif = SelectKBest(score_func=mutual_info_classif, k=2)\n",
    "s_mutual_info_classif.fit(df2, y)\n",
    "df2_scores = pd.DataFrame(s_mutual_info_classif.scores_)\n",
    "print(df2_scores)\n",
    "f_mic = s_mutual_info_classif.transform(df2)"
   ]
  },
  {
   "cell_type": "markdown",
   "metadata": {},
   "source": [
    "RFE"
   ]
  },
  {
   "cell_type": "code",
   "execution_count": 45,
   "metadata": {},
   "outputs": [
    {
     "name": "stdout",
     "output_type": "stream",
     "text": [
      "0.9533333333333334\n"
     ]
    }
   ],
   "source": [
    "from sklearn.feature_selection import RFE\n",
    "from sklearn.tree import DecisionTreeClassifier\n",
    "rfe = RFE(estimator=DecisionTreeClassifier(), n_features_to_select=2)\n",
    "res = rfe.fit_transform(df2, y)\n",
    "#print(res)\n",
    "\n",
    "from sklearn.model_selection import train_test_split\n",
    "from sklearn.model_selection import cross_val_score\n",
    "\n",
    "model = DecisionTreeClassifier()\n",
    "model.fit(res,y)\n",
    "\n",
    "scores = cross_val_score(model, res, y, cv = 5, n_jobs=-1)\n",
    "print(np.mean(scores))"
   ]
  },
  {
   "cell_type": "code",
   "execution_count": null,
   "metadata": {},
   "outputs": [],
   "source": []
  }
 ],
 "metadata": {
  "kernelspec": {
   "display_name": "Python 3",
   "language": "python",
   "name": "python3"
  },
  "language_info": {
   "codemirror_mode": {
    "name": "ipython",
    "version": 3
   },
   "file_extension": ".py",
   "mimetype": "text/x-python",
   "name": "python",
   "nbconvert_exporter": "python",
   "pygments_lexer": "ipython3",
   "version": "3.11.1"
  },
  "orig_nbformat": 4
 },
 "nbformat": 4,
 "nbformat_minor": 2
}

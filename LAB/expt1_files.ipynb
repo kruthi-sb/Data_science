{
  "cells": [
    {
      "attachments": {},
      "cell_type": "markdown",
      "metadata": {},
      "source": [
        "# DON'T RUN"
      ]
    },
    {
      "attachments": {},
      "cell_type": "markdown",
      "metadata": {
        "id": "Q24TM_WVSF0X"
      },
      "source": [
        "# Working with files"
      ]
    },
    {
      "attachments": {},
      "cell_type": "markdown",
      "metadata": {
        "id": "lGDQQAs8R66N"
      },
      "source": [
        "## Excel Files"
      ]
    },
    {
      "cell_type": "code",
      "execution_count": null,
      "metadata": {
        "id": "xhl53gwlOKUL"
      },
      "outputs": [],
      "source": [
        "import pandas as pd"
      ]
    },
    {
      "cell_type": "code",
      "execution_count": null,
      "metadata": {
        "colab": {
          "base_uri": "https://localhost:8080/"
        },
        "id": "tNeXZJyTOrvQ",
        "outputId": "3ebefa0f-70a5-456f-9c5e-a1a5937627bb"
      },
      "outputs": [
        {
          "name": "stdout",
          "output_type": "stream",
          "text": [
            "   No.  fruits\n",
            "0    1   apple\n",
            "1    2  orange\n",
            "2    3    kiwi\n",
            "3    4   grape\n",
            "4    5   berry\n"
          ]
        }
      ],
      "source": [
        "file = pd.read_excel(\"/content/sample_excel.xlsx\")\n",
        "print(file)"
      ]
    },
    {
      "attachments": {},
      "cell_type": "markdown",
      "metadata": {
        "id": "5F6lUoxASvtz"
      },
      "source": [
        "## XML Files"
      ]
    },
    {
      "cell_type": "code",
      "execution_count": null,
      "metadata": {
        "colab": {
          "base_uri": "https://localhost:8080/"
        },
        "id": "5D-jQ1YUSnOc",
        "outputId": "899addbf-06ef-42fe-d8d6-47a98559b272"
      },
      "outputs": [
        {
          "name": "stdout",
          "output_type": "stream",
          "text": [
            "<Element 'catalog' at 0x7fec4c0a4c20>\n"
          ]
        }
      ],
      "source": [
        "import xml.etree.ElementTree as ET\n",
        "mytree = ET.parse(\"/content/books_sample_xml.xml\")\n",
        "myroot = mytree.getroot()                                                                                                                                                                                              \n",
        "print(myroot)\n"
      ]
    },
    {
      "cell_type": "code",
      "execution_count": null,
      "metadata": {
        "colab": {
          "base_uri": "https://localhost:8080/"
        },
        "id": "tV3vT7gdTHU_",
        "outputId": "ed6aea40-83b3-4911-8cda-c8e12d965097"
      },
      "outputs": [
        {
          "name": "stdout",
          "output_type": "stream",
          "text": [
            "\n",
            "      \n"
          ]
        }
      ],
      "source": [
        "print(myroot[1].text)"
      ]
    },
    {
      "attachments": {},
      "cell_type": "markdown",
      "metadata": {
        "id": "xflwKWYSVzn9"
      },
      "source": [
        "## JSON Files"
      ]
    },
    {
      "attachments": {},
      "cell_type": "markdown",
      "metadata": {
        "id": "Tfu1pYnuWpiV"
      },
      "source": [
        "### with direct content"
      ]
    },
    {
      "cell_type": "code",
      "execution_count": null,
      "metadata": {
        "id": "5rtNShNKU9JG"
      },
      "outputs": [],
      "source": [
        "import json\n",
        "person = '{\"name\":\"Bob\",\"languages\":[\"English\",\"French\"]}'\n",
        "person_dict = json.loads(person)"
      ]
    },
    {
      "cell_type": "code",
      "execution_count": null,
      "metadata": {
        "colab": {
          "base_uri": "https://localhost:8080/"
        },
        "id": "oIiL89k-WRiR",
        "outputId": "a28a9db2-8db0-4e94-fcd6-3a5609d46efa"
      },
      "outputs": [
        {
          "name": "stdout",
          "output_type": "stream",
          "text": [
            "{'name': 'Bob', 'languages': ['English', 'French']}\n"
          ]
        }
      ],
      "source": [
        "print(person_dict)"
      ]
    },
    {
      "cell_type": "code",
      "execution_count": null,
      "metadata": {
        "colab": {
          "base_uri": "https://localhost:8080/"
        },
        "id": "FGYeDHhJWWP-",
        "outputId": "5b4fd348-25cf-4d89-e038-f6310bf8833a"
      },
      "outputs": [
        {
          "name": "stdout",
          "output_type": "stream",
          "text": [
            "['English', 'French']\n"
          ]
        }
      ],
      "source": [
        "print(person_dict['languages'])"
      ]
    },
    {
      "cell_type": "code",
      "execution_count": null,
      "metadata": {
        "colab": {
          "base_uri": "https://localhost:8080/"
        },
        "id": "69_tmbx4WbZW",
        "outputId": "1b7f7416-984c-4dec-a360-23e8418c8195"
      },
      "outputs": [
        {
          "name": "stdout",
          "output_type": "stream",
          "text": [
            "Bob\n"
          ]
        }
      ],
      "source": [
        "print(person_dict['name'])"
      ]
    },
    {
      "attachments": {},
      "cell_type": "markdown",
      "metadata": {
        "id": "nKndy-x5W1Y1"
      },
      "source": [
        "### with json file"
      ]
    },
    {
      "cell_type": "code",
      "execution_count": null,
      "metadata": {
        "id": "ucmANnwbWhO-"
      },
      "outputs": [],
      "source": [
        "import json\n",
        "with open('/content/example_2.json', 'r') as my_json_file:\n",
        "  data = json.load(my_json_file)"
      ]
    },
    {
      "cell_type": "code",
      "execution_count": null,
      "metadata": {
        "colab": {
          "base_uri": "https://localhost:8080/"
        },
        "id": "YQZDthuRXwyN",
        "outputId": "37dbda90-c4b2-43d9-9572-e5c5aedfb616"
      },
      "outputs": [
        {
          "name": "stdout",
          "output_type": "stream",
          "text": [
            "{'quiz': {'sport': {'q1': {'question': 'Which one is correct team name in NBA?', 'options': ['New York Bulls', 'Los Angeles Kings', 'Golden State Warriros', 'Huston Rocket'], 'answer': 'Huston Rocket'}}, 'maths': {'q1': {'question': '5 + 7 = ?', 'options': ['10', '11', '12', '13'], 'answer': '12'}, 'q2': {'question': '12 - 8 = ?', 'options': ['1', '2', '3', '4'], 'answer': '4'}}}}\n"
          ]
        }
      ],
      "source": [
        "print(data)"
      ]
    },
    {
      "attachments": {},
      "cell_type": "markdown",
      "metadata": {
        "id": "LR95DjMFc1fN"
      },
      "source": [
        "## CSV File"
      ]
    },
    {
      "cell_type": "code",
      "execution_count": null,
      "metadata": {
        "colab": {
          "base_uri": "https://localhost:8080/"
        },
        "id": "6JYG_kAAX2Li",
        "outputId": "67793733-2e0c-42bc-a92b-9ae0d690879b"
      },
      "outputs": [
        {
          "name": "stdout",
          "output_type": "stream",
          "text": [
            "                 SUBDIVISION  YEAR   JAN    FEB   MAR    APR    MAY    JUN  \\\n",
            "0  ANDAMAN & NICOBAR ISLANDS  1901  49.2   87.1  29.2    2.3  528.8  517.5   \n",
            "1  ANDAMAN & NICOBAR ISLANDS  1902   0.0  159.8  12.2    0.0  446.1  537.1   \n",
            "2  ANDAMAN & NICOBAR ISLANDS  1903  12.7  144.0   0.0    1.0  235.1  479.9   \n",
            "3  ANDAMAN & NICOBAR ISLANDS  1904   9.4   14.7   0.0  202.4  304.5  495.1   \n",
            "4  ANDAMAN & NICOBAR ISLANDS  1905   1.3    0.0   3.3   26.9  279.5  628.7   \n",
            "\n",
            "     JUL    AUG    SEP    OCT    NOV    DEC  ANNUAL  Jan-Feb  Mar-May  \\\n",
            "0  365.1  481.1  332.6  388.5  558.2   33.6  3373.2    136.3    560.3   \n",
            "1  228.9  753.7  666.2  197.2  359.0  160.5  3520.7    159.8    458.3   \n",
            "2  728.4  326.7  339.0  181.2  284.4  225.0  2957.4    156.7    236.1   \n",
            "3  502.0  160.1  820.4  222.2  308.7   40.1  3079.6     24.1    506.9   \n",
            "4  368.7  330.5  297.0  260.7   25.4  344.7  2566.7      1.3    309.7   \n",
            "\n",
            "   Jun-Sep  Oct-Dec  \n",
            "0   1696.3    980.3  \n",
            "1   2185.9    716.7  \n",
            "2   1874.0    690.6  \n",
            "3   1977.6    571.0  \n",
            "4   1624.9    630.8  \n"
          ]
        }
      ],
      "source": [
        "csv_file = pd.read_csv(\"/content/rainfall.csv\")\n",
        "print(csv_file.head())\n"
      ]
    },
    {
      "cell_type": "code",
      "execution_count": null,
      "metadata": {
        "id": "7oFg0TV5eP_9"
      },
      "outputs": [],
      "source": [
        "file2 = pd.read_csv(\"/content/sample_data/sample_csv.csv\")"
      ]
    },
    {
      "cell_type": "code",
      "execution_count": null,
      "metadata": {
        "colab": {
          "base_uri": "https://localhost:8080/"
        },
        "id": "xJsb1BXcfGFM",
        "outputId": "80adb922-ece9-4300-9d42-6d89b27bb329"
      },
      "outputs": [
        {
          "name": "stdout",
          "output_type": "stream",
          "text": [
            "   No.  fruits\n",
            "0    1   apple\n",
            "1    2  orange\n",
            "2    3    kiwi\n",
            "3    4   grape\n",
            "4    5   berry\n"
          ]
        }
      ],
      "source": [
        "print(file2.head())"
      ]
    },
    {
      "cell_type": "code",
      "execution_count": null,
      "metadata": {
        "id": "Pi4Oiuo3fJrD"
      },
      "outputs": [],
      "source": []
    }
  ],
  "metadata": {
    "colab": {
      "provenance": [],
      "toc_visible": true
    },
    "kernelspec": {
      "display_name": "Python 3",
      "name": "python3"
    },
    "language_info": {
      "name": "python"
    }
  },
  "nbformat": 4,
  "nbformat_minor": 0
}

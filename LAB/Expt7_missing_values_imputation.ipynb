{
  "cells": [
    {
      "cell_type": "markdown",
      "metadata": {
        "id": "SR4DZHMQCg7C"
      },
      "source": [
        "# Experiment 7: Missing values Imputation using Horse Colic dataset\n",
        "To apply the following imputation methods for horse-colic dataset.\n",
        "- Statistical Imputation\n",
        "- KNN Imputation\n",
        "- Iterative Imputation"
      ]
    },
    {
      "cell_type": "markdown",
      "metadata": {
        "id": "aRcIynZ6DBs2"
      },
      "source": [
        "## Import Data"
      ]
    },
    {
      "cell_type": "code",
      "execution_count": 20,
      "metadata": {
        "id": "VCueBOvK-EQ2"
      },
      "outputs": [],
      "source": [
        "import numpy as np,  pandas as pd\n",
        "# load dataset using github url\n",
        "url = 'https://raw.githubusercontent.com/jbrownlee/Datasets/master/horse-colic.csv'\n",
        "dataframe = pd.read_csv(url, header=None, na_values='?')\n",
        "# header = None: column names are inferred from the first line of the file.\n",
        "# na_values: Additional strings to recognize as NA/NaN.\n",
        "\n",
        "# load data as numpy array\n",
        "data = dataframe.values\n"
      ]
    },
    {
      "cell_type": "code",
      "execution_count": 21,
      "metadata": {
        "colab": {
          "base_uri": "https://localhost:8080/"
        },
        "id": "Qgz8C5384OhK",
        "outputId": "17aace30-33ea-4f6b-e1b8-598f9fca095e"
      },
      "outputs": [
        {
          "name": "stdout",
          "output_type": "stream",
          "text": [
            "<class 'pandas.core.frame.DataFrame'>\n",
            "RangeIndex: 300 entries, 0 to 299\n",
            "Data columns (total 28 columns):\n",
            " #   Column  Non-Null Count  Dtype  \n",
            "---  ------  --------------  -----  \n",
            " 0   0       299 non-null    float64\n",
            " 1   1       300 non-null    int64  \n",
            " 2   2       300 non-null    int64  \n",
            " 3   3       240 non-null    float64\n",
            " 4   4       276 non-null    float64\n",
            " 5   5       242 non-null    float64\n",
            " 6   6       244 non-null    float64\n",
            " 7   7       231 non-null    float64\n",
            " 8   8       253 non-null    float64\n",
            " 9   9       268 non-null    float64\n",
            " 10  10      245 non-null    float64\n",
            " 11  11      256 non-null    float64\n",
            " 12  12      244 non-null    float64\n",
            " 13  13      196 non-null    float64\n",
            " 14  14      194 non-null    float64\n",
            " 15  15      53 non-null     float64\n",
            " 16  16      198 non-null    float64\n",
            " 17  17      182 non-null    float64\n",
            " 18  18      271 non-null    float64\n",
            " 19  19      267 non-null    float64\n",
            " 20  20      135 non-null    float64\n",
            " 21  21      102 non-null    float64\n",
            " 22  22      299 non-null    float64\n",
            " 23  23      300 non-null    int64  \n",
            " 24  24      300 non-null    int64  \n",
            " 25  25      300 non-null    int64  \n",
            " 26  26      300 non-null    int64  \n",
            " 27  27      300 non-null    int64  \n",
            "dtypes: float64(21), int64(7)\n",
            "memory usage: 65.8 KB\n"
          ]
        }
      ],
      "source": [
        "dataframe.info()\n"
      ]
    },
    {
      "cell_type": "markdown",
      "metadata": {
        "id": "aSyj4CDN4XsA"
      },
      "source": [
        "## Missing Data Info"
      ]
    },
    {
      "cell_type": "code",
      "execution_count": 22,
      "metadata": {
        "colab": {
          "base_uri": "https://localhost:8080/"
        },
        "id": "mNl9GzS8Dakr",
        "outputId": "e9c22718-8688-4d96-e2dc-ea178de0df05"
      },
      "outputs": [
        {
          "name": "stdout",
          "output_type": "stream",
          "text": [
            "> 0, Missing: 1 (0.3%)\n",
            "> 1, Missing: 0 (0.0%)\n",
            "> 2, Missing: 0 (0.0%)\n",
            "> 3, Missing: 60 (20.0%)\n",
            "> 4, Missing: 24 (8.0%)\n",
            "> 5, Missing: 58 (19.3%)\n",
            "> 6, Missing: 56 (18.7%)\n",
            "> 7, Missing: 69 (23.0%)\n",
            "> 8, Missing: 47 (15.7%)\n",
            "> 9, Missing: 32 (10.7%)\n",
            "> 10, Missing: 55 (18.3%)\n",
            "> 11, Missing: 44 (14.7%)\n",
            "> 12, Missing: 56 (18.7%)\n",
            "> 13, Missing: 104 (34.7%)\n",
            "> 14, Missing: 106 (35.3%)\n",
            "> 15, Missing: 247 (82.3%)\n",
            "> 16, Missing: 102 (34.0%)\n",
            "> 17, Missing: 118 (39.3%)\n",
            "> 18, Missing: 29 (9.7%)\n",
            "> 19, Missing: 33 (11.0%)\n",
            "> 20, Missing: 165 (55.0%)\n",
            "> 21, Missing: 198 (66.0%)\n",
            "> 22, Missing: 1 (0.3%)\n",
            "> 23, Missing: 0 (0.0%)\n",
            "> 24, Missing: 0 (0.0%)\n",
            "> 25, Missing: 0 (0.0%)\n",
            "> 26, Missing: 0 (0.0%)\n",
            "> 27, Missing: 0 (0.0%)\n"
          ]
        },
        {
          "data": {
            "text/plain": [
              "0"
            ]
          },
          "execution_count": 22,
          "metadata": {},
          "output_type": "execute_result"
        }
      ],
      "source": [
        "def missing_data_info(dataframe):\n",
        "    # count number of rows with missing values in each column:\n",
        "    for i in range(dataframe.shape[1]): # range of no.of col\n",
        "        # no. of missing in each col:\n",
        "        n_miss = dataframe.iloc[:,i].isnull().sum()\n",
        "        # percentage of miss in each col:\n",
        "        percentage_miss = n_miss / dataframe.shape[0] * 100\n",
        "        print('> %d, Missing: %d (%.1f%%)' % (i, n_miss, percentage_miss))\n",
        "    return n_miss\n",
        "\n",
        "# call function\n",
        "missing_data_info(dataframe)"
      ]
    },
    {
      "cell_type": "code",
      "execution_count": 23,
      "metadata": {},
      "outputs": [
        {
          "name": "stdout",
          "output_type": "stream",
          "text": [
            "> in col 0, n_miss: 1, percentage: 0.3%\n",
            "> in col 1, n_miss: 0, percentage: 0.0%\n",
            "> in col 2, n_miss: 0, percentage: 0.0%\n",
            "> in col 3, n_miss: 60, percentage: 20.0%\n",
            "> in col 4, n_miss: 24, percentage: 8.0%\n",
            "> in col 5, n_miss: 58, percentage: 19.3%\n",
            "> in col 6, n_miss: 56, percentage: 18.7%\n",
            "> in col 7, n_miss: 69, percentage: 23.0%\n",
            "> in col 8, n_miss: 47, percentage: 15.7%\n",
            "> in col 9, n_miss: 32, percentage: 10.7%\n",
            "> in col 10, n_miss: 55, percentage: 18.3%\n",
            "> in col 11, n_miss: 44, percentage: 14.7%\n",
            "> in col 12, n_miss: 56, percentage: 18.7%\n",
            "> in col 13, n_miss: 104, percentage: 34.7%\n",
            "> in col 14, n_miss: 106, percentage: 35.3%\n",
            "> in col 15, n_miss: 247, percentage: 82.3%\n",
            "> in col 16, n_miss: 102, percentage: 34.0%\n",
            "> in col 17, n_miss: 118, percentage: 39.3%\n",
            "> in col 18, n_miss: 29, percentage: 9.7%\n",
            "> in col 19, n_miss: 33, percentage: 11.0%\n",
            "> in col 20, n_miss: 165, percentage: 55.0%\n",
            "> in col 21, n_miss: 198, percentage: 66.0%\n",
            "> in col 22, n_miss: 1, percentage: 0.3%\n",
            "> in col 23, n_miss: 0, percentage: 0.0%\n",
            "> in col 24, n_miss: 0, percentage: 0.0%\n",
            "> in col 25, n_miss: 0, percentage: 0.0%\n",
            "> in col 26, n_miss: 0, percentage: 0.0%\n",
            "> in col 27, n_miss: 0, percentage: 0.0%\n"
          ]
        }
      ],
      "source": [
        "# replication\n",
        "def missing_val_cnt(dataframe):\n",
        "    df = dataframe\n",
        "    for i in range(df.shape[1]): # i is col\n",
        "        n_miss = df.iloc[:,i].isnull().sum()\n",
        "        per_miss = (n_miss / df.shape[0]) * 100\n",
        "        print(\"> in col %d, n_miss: %d, percentage: %.1f%%\" %  (i,n_miss,per_miss))\n",
        "\n",
        "missing_val_cnt(dataframe)\n"
      ]
    },
    {
      "cell_type": "markdown",
      "metadata": {
        "id": "uTZdTnmq5RaY"
      },
      "source": [
        "## 1. Statistical Imputation"
      ]
    },
    {
      "cell_type": "code",
      "execution_count": 24,
      "metadata": {
        "colab": {
          "base_uri": "https://localhost:8080/"
        },
        "id": "NGhclm4445_N",
        "outputId": "5a1b4a66-e18d-4a3c-9b18-1530e6c396d0"
      },
      "outputs": [
        {
          "name": "stdout",
          "output_type": "stream",
          "text": [
            "Missing:  0\n"
          ]
        }
      ],
      "source": [
        "from sklearn.impute import SimpleImputer\n",
        "imputer = SimpleImputer(strategy='mean')\n",
        "# fit on the dataset\n",
        "imputer.fit(data)\n",
        "# transform the dataset\n",
        "Xtrans1 = imputer.transform(data)\n",
        "# print total missing\n",
        "# Flatten(): Return a copy of the array collapsed into one dimension.\n",
        "print('Missing: ', sum(np.isnan(Xtrans1).flatten()))\n"
      ]
    },
    {
      "cell_type": "code",
      "execution_count": 25,
      "metadata": {},
      "outputs": [
        {
          "name": "stdout",
          "output_type": "stream",
          "text": [
            "Missing 0\n"
          ]
        }
      ],
      "source": [
        "# replication\n",
        "print(\"Missing\", sum(np.isnan(Xtrans1).flatten()))"
      ]
    },
    {
      "cell_type": "markdown",
      "metadata": {
        "id": "5dOomgJK9b6n"
      },
      "source": [
        "## 2. Iterative Imputer"
      ]
    },
    {
      "cell_type": "code",
      "execution_count": 26,
      "metadata": {
        "colab": {
          "base_uri": "https://localhost:8080/"
        },
        "id": "8EdP37Xe9jk4",
        "outputId": "1e52c975-3647-470b-d18b-250f1b54ea69"
      },
      "outputs": [
        {
          "name": "stdout",
          "output_type": "stream",
          "text": [
            "> 0, Missing: 1 (0.3%)\n",
            "> 1, Missing: 0 (0.0%)\n",
            "> 2, Missing: 0 (0.0%)\n",
            "> 3, Missing: 60 (20.0%)\n",
            "> 4, Missing: 24 (8.0%)\n",
            "> 5, Missing: 58 (19.3%)\n",
            "> 6, Missing: 56 (18.7%)\n",
            "> 7, Missing: 69 (23.0%)\n",
            "> 8, Missing: 47 (15.7%)\n",
            "> 9, Missing: 32 (10.7%)\n",
            "> 10, Missing: 55 (18.3%)\n",
            "> 11, Missing: 44 (14.7%)\n",
            "> 12, Missing: 56 (18.7%)\n",
            "> 13, Missing: 104 (34.7%)\n",
            "> 14, Missing: 106 (35.3%)\n",
            "> 15, Missing: 247 (82.3%)\n",
            "> 16, Missing: 102 (34.0%)\n",
            "> 17, Missing: 118 (39.3%)\n",
            "> 18, Missing: 29 (9.7%)\n",
            "> 19, Missing: 33 (11.0%)\n",
            "> 20, Missing: 165 (55.0%)\n",
            "> 21, Missing: 198 (66.0%)\n",
            "> 22, Missing: 1 (0.3%)\n",
            "> 23, Missing: 0 (0.0%)\n",
            "> 24, Missing: 0 (0.0%)\n",
            "> 25, Missing: 0 (0.0%)\n",
            "> 26, Missing: 0 (0.0%)\n",
            "> 27, Missing: 0 (0.0%)\n"
          ]
        },
        {
          "data": {
            "text/plain": [
              "0"
            ]
          },
          "execution_count": 26,
          "metadata": {},
          "output_type": "execute_result"
        }
      ],
      "source": [
        "missing_data_info(dataframe)"
      ]
    },
    {
      "cell_type": "code",
      "execution_count": 27,
      "metadata": {
        "colab": {
          "base_uri": "https://localhost:8080/"
        },
        "id": "jQC_JlKy5n47",
        "outputId": "3d0ea571-1568-4f77-9eae-691602168a62"
      },
      "outputs": [
        {
          "name": "stdout",
          "output_type": "stream",
          "text": [
            "Missing:  0\n"
          ]
        }
      ],
      "source": [
        "# IterativeImputer is experimental and the API might change without any deprecation cycle.\n",
        "# To use it, you need to explicitly import enable_iterative_imputer:\n",
        "from sklearn.experimental import enable_iterative_imputer\n",
        "from sklearn.impute import IterativeImputer\n",
        "# collect data values in numpy array\n",
        "data = dataframe.values\n",
        "# define imputer\n",
        "imputer = IterativeImputer()\n",
        "# fit on the dataset\n",
        "imputer.fit(data)\n",
        "# transform the dataset\n",
        "Xtrans2 = imputer.transform(data)\n",
        "# print total missing\n",
        "print('Missing: ',sum(np.isnan(Xtrans2).flatten()))"
      ]
    },
    {
      "cell_type": "markdown",
      "metadata": {
        "id": "MwIEnSjo9pi4"
      },
      "source": [
        "## 3. KNN Imputer"
      ]
    },
    {
      "cell_type": "code",
      "execution_count": 28,
      "metadata": {
        "colab": {
          "base_uri": "https://localhost:8080/"
        },
        "id": "HCyzxw8Y-BZQ",
        "outputId": "9aa5e649-5f7a-46f3-ef89-7f4f44ad32aa"
      },
      "outputs": [
        {
          "name": "stdout",
          "output_type": "stream",
          "text": [
            "> 0, Missing: 1 (0.3%)\n",
            "> 1, Missing: 0 (0.0%)\n",
            "> 2, Missing: 0 (0.0%)\n",
            "> 3, Missing: 60 (20.0%)\n",
            "> 4, Missing: 24 (8.0%)\n",
            "> 5, Missing: 58 (19.3%)\n",
            "> 6, Missing: 56 (18.7%)\n",
            "> 7, Missing: 69 (23.0%)\n",
            "> 8, Missing: 47 (15.7%)\n",
            "> 9, Missing: 32 (10.7%)\n",
            "> 10, Missing: 55 (18.3%)\n",
            "> 11, Missing: 44 (14.7%)\n",
            "> 12, Missing: 56 (18.7%)\n",
            "> 13, Missing: 104 (34.7%)\n",
            "> 14, Missing: 106 (35.3%)\n",
            "> 15, Missing: 247 (82.3%)\n",
            "> 16, Missing: 102 (34.0%)\n",
            "> 17, Missing: 118 (39.3%)\n",
            "> 18, Missing: 29 (9.7%)\n",
            "> 19, Missing: 33 (11.0%)\n",
            "> 20, Missing: 165 (55.0%)\n",
            "> 21, Missing: 198 (66.0%)\n",
            "> 22, Missing: 1 (0.3%)\n",
            "> 23, Missing: 0 (0.0%)\n",
            "> 24, Missing: 0 (0.0%)\n",
            "> 25, Missing: 0 (0.0%)\n",
            "> 26, Missing: 0 (0.0%)\n",
            "> 27, Missing: 0 (0.0%)\n"
          ]
        },
        {
          "data": {
            "text/plain": [
              "0"
            ]
          },
          "execution_count": 28,
          "metadata": {},
          "output_type": "execute_result"
        }
      ],
      "source": [
        "missing_data_info(dataframe)"
      ]
    },
    {
      "cell_type": "code",
      "execution_count": 29,
      "metadata": {
        "colab": {
          "base_uri": "https://localhost:8080/"
        },
        "id": "yKIEF0dJ7jkY",
        "outputId": "e330ab6e-0082-49fe-b329-a725fbc421c1"
      },
      "outputs": [
        {
          "name": "stdout",
          "output_type": "stream",
          "text": [
            "Missing: 0\n"
          ]
        }
      ],
      "source": [
        "from sklearn.impute import KNNImputer\n",
        "# collect data values in numpy array\n",
        "data = dataframe.values\n",
        "imputer = KNNImputer()\n",
        "# fit on the dataset\n",
        "imputer.fit(data)\n",
        "# transform the dataset\n",
        "Xtrans = imputer.transform(data)\n",
        "# print total missing\n",
        "print('Missing: %d' % sum(np.isnan(Xtrans).flatten()))\n"
      ]
    },
    {
      "cell_type": "markdown",
      "metadata": {
        "id": "9g9jVLI6-WUX"
      },
      "source": [
        "The End"
      ]
    },
    {
      "cell_type": "code",
      "execution_count": null,
      "metadata": {
        "id": "ED79CAFM-DSs"
      },
      "outputs": [],
      "source": []
    }
  ],
  "metadata": {
    "colab": {
      "provenance": [],
      "toc_visible": true
    },
    "kernelspec": {
      "display_name": "Python 3",
      "name": "python3"
    },
    "language_info": {
      "codemirror_mode": {
        "name": "ipython",
        "version": 3
      },
      "file_extension": ".py",
      "mimetype": "text/x-python",
      "name": "python",
      "nbconvert_exporter": "python",
      "pygments_lexer": "ipython3",
      "version": "3.11.1"
    }
  },
  "nbformat": 4,
  "nbformat_minor": 0
}

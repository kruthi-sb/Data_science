{
  "cells": [
    {
      "cell_type": "markdown",
      "metadata": {
        "id": "fluKLQmS-wF3"
      },
      "source": [
        "# Experiment 8: Encoding Techinques\n",
        "To implement the following Encoding methods:\n",
        "- Ordinal Encoding\n",
        "- One Hot Encoding\n",
        "- Dummy variable Encoding\n"
      ]
    },
    {
      "cell_type": "markdown",
      "metadata": {
        "id": "Ja7VPqYR_Dlc"
      },
      "source": [
        "## 1. OrdinalEncoding"
      ]
    },
    {
      "cell_type": "markdown",
      "metadata": {
        "id": "lUdjc6zABRPT"
      },
      "source": [
        "The features are converted to ordinal integers. This results in\n",
        "a single column of integers (0 to n_categories - 1) per feature."
      ]
    },
    {
      "cell_type": "code",
      "execution_count": 1,
      "metadata": {
        "colab": {
          "base_uri": "https://localhost:8080/"
        },
        "id": "PfW_HTUm2vgX",
        "outputId": "92d8863b-8992-40cf-bc8d-0466a6cfe3a3"
      },
      "outputs": [
        {
          "name": "stdout",
          "output_type": "stream",
          "text": [
            "data: \n",
            " [['red']\n",
            " ['green']\n",
            " ['blue']]\n",
            "\n",
            "Result: \n",
            " [[2.]\n",
            " [1.]\n",
            " [0.]]\n"
          ]
        }
      ],
      "source": [
        "import numpy as np\n",
        "from sklearn.preprocessing import OrdinalEncoder\n",
        "# define data\n",
        "data = np.array([['red'], ['green'], ['blue']])\n",
        "print(\"data: \\n\", data)\n",
        "# define ordinal encoding\n",
        "encoder = OrdinalEncoder()\n",
        "# transform data\n",
        "result = encoder.fit_transform(data)\n",
        "print(\"\\nResult: \\n\", result)\n"
      ]
    },
    {
      "cell_type": "markdown",
      "metadata": {
        "id": "0euA-xiy_9LU"
      },
      "source": [
        "## 2. One Hot Encoder"
      ]
    },
    {
      "cell_type": "markdown",
      "metadata": {
        "id": "QXz75WY-Bjuh"
      },
      "source": [
        "The features are encoded using a one-hot (aka 'one-of-K' or 'dummy') encoding scheme.              \n",
        "This creates a binary column for each category and returns a sparse matrix or dense array."
      ]
    },
    {
      "cell_type": "code",
      "execution_count": 2,
      "metadata": {
        "colab": {
          "base_uri": "https://localhost:8080/"
        },
        "id": "7bnG0mW0_2Dw",
        "outputId": "90fd78d0-f181-481e-d8e3-3d9013aeb25f"
      },
      "outputs": [
        {
          "name": "stdout",
          "output_type": "stream",
          "text": [
            "[['red']\n",
            " ['green']\n",
            " ['blue']\n",
            " ['red']]\n",
            "[[0. 0. 1.]\n",
            " [0. 1. 0.]\n",
            " [1. 0. 0.]\n",
            " [0. 0. 1.]]\n",
            "<class 'numpy.ndarray'>\n"
          ]
        },
        {
          "name": "stderr",
          "output_type": "stream",
          "text": [
            "c:\\Users\\kruth\\AppData\\Local\\Programs\\Python\\Python311\\Lib\\site-packages\\sklearn\\preprocessing\\_encoders.py:808: FutureWarning: `sparse` was renamed to `sparse_output` in version 1.2 and will be removed in 1.4. `sparse_output` is ignored unless you leave `sparse` to its default value.\n",
            "  warnings.warn(\n"
          ]
        }
      ],
      "source": [
        "# example of a one hot encoding\n",
        "from sklearn.preprocessing import OneHotEncoder\n",
        "# define data\n",
        "data = np.array([['red'], ['green'], ['blue'],['red']])\n",
        "print(data)\n",
        "# define one hot encoding\n",
        "# sparse- Will return sparse matrix if set True else will return an array.\n",
        "encoder = OneHotEncoder(sparse=False)\n",
        "# transform data\n",
        "onehot = encoder.fit_transform(data)\n",
        "print(onehot)\n",
        "print(type(onehot))"
      ]
    },
    {
      "cell_type": "markdown",
      "metadata": {
        "id": "BblciFJ8AJ30"
      },
      "source": [
        "## 3. Dummy Variable Encoding"
      ]
    },
    {
      "cell_type": "markdown",
      "metadata": {
        "id": "lDk3gJGtDKbX"
      },
      "source": [
        "Dummy encoding also uses dummy (binary) variables. Instead of creating a number of dummy variables that is equal to the number of categories (k) in the variable, dummy encoding uses k-1 dummy variables. To encode the same Color variable with three categories using the dummy encoding, we need to use only two dummy variables.\n",
        "\n",
        "In dummy encoding,\n",
        "\n",
        "- \"Red” color is encoded as [1 0] vector of size 2.\n",
        "- “Green” color is encoded as [0 1] vector of size 2.\n",
        "- “Blue” color is encoded as [0 0] vector of size 2."
      ]
    },
    {
      "cell_type": "code",
      "execution_count": 4,
      "metadata": {
        "colab": {
          "base_uri": "https://localhost:8080/"
        },
        "id": "aFmlfjXd__zw",
        "outputId": "f3659972-fab7-481e-8830-798fbe159778"
      },
      "outputs": [
        {
          "name": "stdout",
          "output_type": "stream",
          "text": [
            "[['red']\n",
            " ['green']\n",
            " ['blue']]\n",
            "[[0. 1.]\n",
            " [1. 0.]\n",
            " [0. 0.]]\n"
          ]
        },
        {
          "name": "stderr",
          "output_type": "stream",
          "text": [
            "c:\\Users\\kruth\\AppData\\Local\\Programs\\Python\\Python311\\Lib\\site-packages\\sklearn\\preprocessing\\_encoders.py:808: FutureWarning: `sparse` was renamed to `sparse_output` in version 1.2 and will be removed in 1.4. `sparse_output` is ignored unless you leave `sparse` to its default value.\n",
            "  warnings.warn(\n"
          ]
        }
      ],
      "source": [
        "# example of a dummy variable encoding\n",
        "'''\n",
        "OneHotEncoder : parameters\n",
        "-> sparse- Will return sparse matrix if set True else will return an array.\n",
        "-> drop : {'first', 'if_binary'} or an array-like of shape (n_features,), default=None\n",
        "    Specifies a methodology to use to drop one of the categories per\n",
        "feature. This is useful in situations where perfectly collinear\n",
        "features cause problems, such as when feeding the resulting data\n",
        "into an unregularized linear regression model.\n",
        "'''\n",
        "from sklearn.preprocessing import OneHotEncoder\n",
        "# define data\n",
        "data = np.array([['red'], ['green'], ['blue']])\n",
        "print(data)\n",
        "# define one hot encoding\n",
        "encoder = OneHotEncoder(drop='first', sparse=False) # transform data\n",
        "onehot = encoder.fit_transform(data)\n",
        "print(onehot)"
      ]
    },
    {
      "cell_type": "code",
      "execution_count": null,
      "metadata": {
        "id": "lDwwysMTAH8A"
      },
      "outputs": [],
      "source": []
    }
  ],
  "metadata": {
    "colab": {
      "provenance": [],
      "toc_visible": true
    },
    "kernelspec": {
      "display_name": "Python 3",
      "name": "python3"
    },
    "language_info": {
      "codemirror_mode": {
        "name": "ipython",
        "version": 3
      },
      "file_extension": ".py",
      "mimetype": "text/x-python",
      "name": "python",
      "nbconvert_exporter": "python",
      "pygments_lexer": "ipython3",
      "version": "3.11.1"
    }
  },
  "nbformat": 4,
  "nbformat_minor": 0
}

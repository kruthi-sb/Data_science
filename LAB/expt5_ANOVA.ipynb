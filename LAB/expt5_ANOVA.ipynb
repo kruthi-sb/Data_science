{
  "cells": [
    {
      "cell_type": "markdown",
      "metadata": {
        "id": "Tc_ava_UaDRM"
      },
      "source": [
        "# Experiment 5:\n",
        "Apply the following on IRIS dataset\n",
        "1. Find the correlation matrix.\n",
        "2. Plot the correlation plot on dataset and visualize giving an overview of relationships among data on iris data.\n",
        "3. Analysis of covariance:variance (ANOVA)\n",
        "\n"
      ]
    },
    {
      "cell_type": "markdown",
      "metadata": {
        "id": "GiMXqsK3nsgI"
      },
      "source": [
        "## IRIS dataset info and desc"
      ]
    },
    {
      "cell_type": "code",
      "execution_count": null,
      "metadata": {
        "colab": {
          "base_uri": "https://localhost:8080/",
          "height": 206
        },
        "id": "caRfp8EIngAN",
        "outputId": "2d5d3328-5adc-4d23-bd81-309d60838ce7"
      },
      "outputs": [
        {
          "data": {
            "text/html": [
              "\n",
              "  <div id=\"df-d43b9ab6-3af9-4a41-b2f3-5d8f1abbfdb5\">\n",
              "    <div class=\"colab-df-container\">\n",
              "      <div>\n",
              "<style scoped>\n",
              "    .dataframe tbody tr th:only-of-type {\n",
              "        vertical-align: middle;\n",
              "    }\n",
              "\n",
              "    .dataframe tbody tr th {\n",
              "        vertical-align: top;\n",
              "    }\n",
              "\n",
              "    .dataframe thead th {\n",
              "        text-align: right;\n",
              "    }\n",
              "</style>\n",
              "<table border=\"1\" class=\"dataframe\">\n",
              "  <thead>\n",
              "    <tr style=\"text-align: right;\">\n",
              "      <th></th>\n",
              "      <th>Id</th>\n",
              "      <th>SepalLengthCm</th>\n",
              "      <th>SepalWidthCm</th>\n",
              "      <th>PetalLengthCm</th>\n",
              "      <th>PetalWidthCm</th>\n",
              "      <th>Species</th>\n",
              "    </tr>\n",
              "  </thead>\n",
              "  <tbody>\n",
              "    <tr>\n",
              "      <th>0</th>\n",
              "      <td>1</td>\n",
              "      <td>5.1</td>\n",
              "      <td>3.5</td>\n",
              "      <td>1.4</td>\n",
              "      <td>0.2</td>\n",
              "      <td>Iris-setosa</td>\n",
              "    </tr>\n",
              "    <tr>\n",
              "      <th>1</th>\n",
              "      <td>2</td>\n",
              "      <td>4.9</td>\n",
              "      <td>3.0</td>\n",
              "      <td>1.4</td>\n",
              "      <td>0.2</td>\n",
              "      <td>Iris-setosa</td>\n",
              "    </tr>\n",
              "    <tr>\n",
              "      <th>2</th>\n",
              "      <td>3</td>\n",
              "      <td>4.7</td>\n",
              "      <td>3.2</td>\n",
              "      <td>1.3</td>\n",
              "      <td>0.2</td>\n",
              "      <td>Iris-setosa</td>\n",
              "    </tr>\n",
              "    <tr>\n",
              "      <th>3</th>\n",
              "      <td>4</td>\n",
              "      <td>4.6</td>\n",
              "      <td>3.1</td>\n",
              "      <td>1.5</td>\n",
              "      <td>0.2</td>\n",
              "      <td>Iris-setosa</td>\n",
              "    </tr>\n",
              "    <tr>\n",
              "      <th>4</th>\n",
              "      <td>5</td>\n",
              "      <td>5.0</td>\n",
              "      <td>3.6</td>\n",
              "      <td>1.4</td>\n",
              "      <td>0.2</td>\n",
              "      <td>Iris-setosa</td>\n",
              "    </tr>\n",
              "  </tbody>\n",
              "</table>\n",
              "</div>\n",
              "      <button class=\"colab-df-convert\" onclick=\"convertToInteractive('df-d43b9ab6-3af9-4a41-b2f3-5d8f1abbfdb5')\"\n",
              "              title=\"Convert this dataframe to an interactive table.\"\n",
              "              style=\"display:none;\">\n",
              "        \n",
              "  <svg xmlns=\"http://www.w3.org/2000/svg\" height=\"24px\"viewBox=\"0 0 24 24\"\n",
              "       width=\"24px\">\n",
              "    <path d=\"M0 0h24v24H0V0z\" fill=\"none\"/>\n",
              "    <path d=\"M18.56 5.44l.94 2.06.94-2.06 2.06-.94-2.06-.94-.94-2.06-.94 2.06-2.06.94zm-11 1L8.5 8.5l.94-2.06 2.06-.94-2.06-.94L8.5 2.5l-.94 2.06-2.06.94zm10 10l.94 2.06.94-2.06 2.06-.94-2.06-.94-.94-2.06-.94 2.06-2.06.94z\"/><path d=\"M17.41 7.96l-1.37-1.37c-.4-.4-.92-.59-1.43-.59-.52 0-1.04.2-1.43.59L10.3 9.45l-7.72 7.72c-.78.78-.78 2.05 0 2.83L4 21.41c.39.39.9.59 1.41.59.51 0 1.02-.2 1.41-.59l7.78-7.78 2.81-2.81c.8-.78.8-2.07 0-2.86zM5.41 20L4 18.59l7.72-7.72 1.47 1.35L5.41 20z\"/>\n",
              "  </svg>\n",
              "      </button>\n",
              "      \n",
              "  <style>\n",
              "    .colab-df-container {\n",
              "      display:flex;\n",
              "      flex-wrap:wrap;\n",
              "      gap: 12px;\n",
              "    }\n",
              "\n",
              "    .colab-df-convert {\n",
              "      background-color: #E8F0FE;\n",
              "      border: none;\n",
              "      border-radius: 50%;\n",
              "      cursor: pointer;\n",
              "      display: none;\n",
              "      fill: #1967D2;\n",
              "      height: 32px;\n",
              "      padding: 0 0 0 0;\n",
              "      width: 32px;\n",
              "    }\n",
              "\n",
              "    .colab-df-convert:hover {\n",
              "      background-color: #E2EBFA;\n",
              "      box-shadow: 0px 1px 2px rgba(60, 64, 67, 0.3), 0px 1px 3px 1px rgba(60, 64, 67, 0.15);\n",
              "      fill: #174EA6;\n",
              "    }\n",
              "\n",
              "    [theme=dark] .colab-df-convert {\n",
              "      background-color: #3B4455;\n",
              "      fill: #D2E3FC;\n",
              "    }\n",
              "\n",
              "    [theme=dark] .colab-df-convert:hover {\n",
              "      background-color: #434B5C;\n",
              "      box-shadow: 0px 1px 3px 1px rgba(0, 0, 0, 0.15);\n",
              "      filter: drop-shadow(0px 1px 2px rgba(0, 0, 0, 0.3));\n",
              "      fill: #FFFFFF;\n",
              "    }\n",
              "  </style>\n",
              "\n",
              "      <script>\n",
              "        const buttonEl =\n",
              "          document.querySelector('#df-d43b9ab6-3af9-4a41-b2f3-5d8f1abbfdb5 button.colab-df-convert');\n",
              "        buttonEl.style.display =\n",
              "          google.colab.kernel.accessAllowed ? 'block' : 'none';\n",
              "\n",
              "        async function convertToInteractive(key) {\n",
              "          const element = document.querySelector('#df-d43b9ab6-3af9-4a41-b2f3-5d8f1abbfdb5');\n",
              "          const dataTable =\n",
              "            await google.colab.kernel.invokeFunction('convertToInteractive',\n",
              "                                                     [key], {});\n",
              "          if (!dataTable) return;\n",
              "\n",
              "          const docLinkHtml = 'Like what you see? Visit the ' +\n",
              "            '<a target=\"_blank\" href=https://colab.research.google.com/notebooks/data_table.ipynb>data table notebook</a>'\n",
              "            + ' to learn more about interactive tables.';\n",
              "          element.innerHTML = '';\n",
              "          dataTable['output_type'] = 'display_data';\n",
              "          await google.colab.output.renderOutput(dataTable, element);\n",
              "          const docLink = document.createElement('div');\n",
              "          docLink.innerHTML = docLinkHtml;\n",
              "          element.appendChild(docLink);\n",
              "        }\n",
              "      </script>\n",
              "    </div>\n",
              "  </div>\n",
              "  "
            ],
            "text/plain": [
              "   Id  SepalLengthCm  SepalWidthCm  PetalLengthCm  PetalWidthCm      Species\n",
              "0   1            5.1           3.5            1.4           0.2  Iris-setosa\n",
              "1   2            4.9           3.0            1.4           0.2  Iris-setosa\n",
              "2   3            4.7           3.2            1.3           0.2  Iris-setosa\n",
              "3   4            4.6           3.1            1.5           0.2  Iris-setosa\n",
              "4   5            5.0           3.6            1.4           0.2  Iris-setosa"
            ]
          },
          "execution_count": 2,
          "metadata": {},
          "output_type": "execute_result"
        }
      ],
      "source": [
        "from sklearn import datasets\n",
        "import pandas as pd\n",
        "iris_df = pd.read_csv('/content/sample_data/Iris.csv')\n",
        "iris_df.head()\n"
      ]
    },
    {
      "cell_type": "code",
      "execution_count": null,
      "metadata": {
        "colab": {
          "base_uri": "https://localhost:8080/"
        },
        "id": "4o0FG_5in08n",
        "outputId": "bdca6926-b55c-4da3-89b0-3a0d10fce549"
      },
      "outputs": [
        {
          "name": "stdout",
          "output_type": "stream",
          "text": [
            "<class 'pandas.core.frame.DataFrame'>\n",
            "RangeIndex: 150 entries, 0 to 149\n",
            "Data columns (total 6 columns):\n",
            " #   Column         Non-Null Count  Dtype  \n",
            "---  ------         --------------  -----  \n",
            " 0   Id             150 non-null    int64  \n",
            " 1   SepalLengthCm  150 non-null    float64\n",
            " 2   SepalWidthCm   150 non-null    float64\n",
            " 3   PetalLengthCm  150 non-null    float64\n",
            " 4   PetalWidthCm   150 non-null    float64\n",
            " 5   Species        150 non-null    object \n",
            "dtypes: float64(4), int64(1), object(1)\n",
            "memory usage: 7.2+ KB\n"
          ]
        }
      ],
      "source": [
        "iris_df.info()"
      ]
    },
    {
      "cell_type": "code",
      "execution_count": null,
      "metadata": {
        "colab": {
          "base_uri": "https://localhost:8080/",
          "height": 300
        },
        "id": "Rt0PS8UOn4CW",
        "outputId": "a3b0f168-eb04-4157-a1f4-f0de72596dd1"
      },
      "outputs": [
        {
          "data": {
            "text/html": [
              "\n",
              "  <div id=\"df-42efb25c-5dbc-47ce-aadd-611c1de3dd94\">\n",
              "    <div class=\"colab-df-container\">\n",
              "      <div>\n",
              "<style scoped>\n",
              "    .dataframe tbody tr th:only-of-type {\n",
              "        vertical-align: middle;\n",
              "    }\n",
              "\n",
              "    .dataframe tbody tr th {\n",
              "        vertical-align: top;\n",
              "    }\n",
              "\n",
              "    .dataframe thead th {\n",
              "        text-align: right;\n",
              "    }\n",
              "</style>\n",
              "<table border=\"1\" class=\"dataframe\">\n",
              "  <thead>\n",
              "    <tr style=\"text-align: right;\">\n",
              "      <th></th>\n",
              "      <th>Id</th>\n",
              "      <th>SepalLengthCm</th>\n",
              "      <th>SepalWidthCm</th>\n",
              "      <th>PetalLengthCm</th>\n",
              "      <th>PetalWidthCm</th>\n",
              "    </tr>\n",
              "  </thead>\n",
              "  <tbody>\n",
              "    <tr>\n",
              "      <th>count</th>\n",
              "      <td>150.000000</td>\n",
              "      <td>150.000000</td>\n",
              "      <td>150.000000</td>\n",
              "      <td>150.000000</td>\n",
              "      <td>150.000000</td>\n",
              "    </tr>\n",
              "    <tr>\n",
              "      <th>mean</th>\n",
              "      <td>75.500000</td>\n",
              "      <td>5.843333</td>\n",
              "      <td>3.054000</td>\n",
              "      <td>3.758667</td>\n",
              "      <td>1.198667</td>\n",
              "    </tr>\n",
              "    <tr>\n",
              "      <th>std</th>\n",
              "      <td>43.445368</td>\n",
              "      <td>0.828066</td>\n",
              "      <td>0.433594</td>\n",
              "      <td>1.764420</td>\n",
              "      <td>0.763161</td>\n",
              "    </tr>\n",
              "    <tr>\n",
              "      <th>min</th>\n",
              "      <td>1.000000</td>\n",
              "      <td>4.300000</td>\n",
              "      <td>2.000000</td>\n",
              "      <td>1.000000</td>\n",
              "      <td>0.100000</td>\n",
              "    </tr>\n",
              "    <tr>\n",
              "      <th>25%</th>\n",
              "      <td>38.250000</td>\n",
              "      <td>5.100000</td>\n",
              "      <td>2.800000</td>\n",
              "      <td>1.600000</td>\n",
              "      <td>0.300000</td>\n",
              "    </tr>\n",
              "    <tr>\n",
              "      <th>50%</th>\n",
              "      <td>75.500000</td>\n",
              "      <td>5.800000</td>\n",
              "      <td>3.000000</td>\n",
              "      <td>4.350000</td>\n",
              "      <td>1.300000</td>\n",
              "    </tr>\n",
              "    <tr>\n",
              "      <th>75%</th>\n",
              "      <td>112.750000</td>\n",
              "      <td>6.400000</td>\n",
              "      <td>3.300000</td>\n",
              "      <td>5.100000</td>\n",
              "      <td>1.800000</td>\n",
              "    </tr>\n",
              "    <tr>\n",
              "      <th>max</th>\n",
              "      <td>150.000000</td>\n",
              "      <td>7.900000</td>\n",
              "      <td>4.400000</td>\n",
              "      <td>6.900000</td>\n",
              "      <td>2.500000</td>\n",
              "    </tr>\n",
              "  </tbody>\n",
              "</table>\n",
              "</div>\n",
              "      <button class=\"colab-df-convert\" onclick=\"convertToInteractive('df-42efb25c-5dbc-47ce-aadd-611c1de3dd94')\"\n",
              "              title=\"Convert this dataframe to an interactive table.\"\n",
              "              style=\"display:none;\">\n",
              "        \n",
              "  <svg xmlns=\"http://www.w3.org/2000/svg\" height=\"24px\"viewBox=\"0 0 24 24\"\n",
              "       width=\"24px\">\n",
              "    <path d=\"M0 0h24v24H0V0z\" fill=\"none\"/>\n",
              "    <path d=\"M18.56 5.44l.94 2.06.94-2.06 2.06-.94-2.06-.94-.94-2.06-.94 2.06-2.06.94zm-11 1L8.5 8.5l.94-2.06 2.06-.94-2.06-.94L8.5 2.5l-.94 2.06-2.06.94zm10 10l.94 2.06.94-2.06 2.06-.94-2.06-.94-.94-2.06-.94 2.06-2.06.94z\"/><path d=\"M17.41 7.96l-1.37-1.37c-.4-.4-.92-.59-1.43-.59-.52 0-1.04.2-1.43.59L10.3 9.45l-7.72 7.72c-.78.78-.78 2.05 0 2.83L4 21.41c.39.39.9.59 1.41.59.51 0 1.02-.2 1.41-.59l7.78-7.78 2.81-2.81c.8-.78.8-2.07 0-2.86zM5.41 20L4 18.59l7.72-7.72 1.47 1.35L5.41 20z\"/>\n",
              "  </svg>\n",
              "      </button>\n",
              "      \n",
              "  <style>\n",
              "    .colab-df-container {\n",
              "      display:flex;\n",
              "      flex-wrap:wrap;\n",
              "      gap: 12px;\n",
              "    }\n",
              "\n",
              "    .colab-df-convert {\n",
              "      background-color: #E8F0FE;\n",
              "      border: none;\n",
              "      border-radius: 50%;\n",
              "      cursor: pointer;\n",
              "      display: none;\n",
              "      fill: #1967D2;\n",
              "      height: 32px;\n",
              "      padding: 0 0 0 0;\n",
              "      width: 32px;\n",
              "    }\n",
              "\n",
              "    .colab-df-convert:hover {\n",
              "      background-color: #E2EBFA;\n",
              "      box-shadow: 0px 1px 2px rgba(60, 64, 67, 0.3), 0px 1px 3px 1px rgba(60, 64, 67, 0.15);\n",
              "      fill: #174EA6;\n",
              "    }\n",
              "\n",
              "    [theme=dark] .colab-df-convert {\n",
              "      background-color: #3B4455;\n",
              "      fill: #D2E3FC;\n",
              "    }\n",
              "\n",
              "    [theme=dark] .colab-df-convert:hover {\n",
              "      background-color: #434B5C;\n",
              "      box-shadow: 0px 1px 3px 1px rgba(0, 0, 0, 0.15);\n",
              "      filter: drop-shadow(0px 1px 2px rgba(0, 0, 0, 0.3));\n",
              "      fill: #FFFFFF;\n",
              "    }\n",
              "  </style>\n",
              "\n",
              "      <script>\n",
              "        const buttonEl =\n",
              "          document.querySelector('#df-42efb25c-5dbc-47ce-aadd-611c1de3dd94 button.colab-df-convert');\n",
              "        buttonEl.style.display =\n",
              "          google.colab.kernel.accessAllowed ? 'block' : 'none';\n",
              "\n",
              "        async function convertToInteractive(key) {\n",
              "          const element = document.querySelector('#df-42efb25c-5dbc-47ce-aadd-611c1de3dd94');\n",
              "          const dataTable =\n",
              "            await google.colab.kernel.invokeFunction('convertToInteractive',\n",
              "                                                     [key], {});\n",
              "          if (!dataTable) return;\n",
              "\n",
              "          const docLinkHtml = 'Like what you see? Visit the ' +\n",
              "            '<a target=\"_blank\" href=https://colab.research.google.com/notebooks/data_table.ipynb>data table notebook</a>'\n",
              "            + ' to learn more about interactive tables.';\n",
              "          element.innerHTML = '';\n",
              "          dataTable['output_type'] = 'display_data';\n",
              "          await google.colab.output.renderOutput(dataTable, element);\n",
              "          const docLink = document.createElement('div');\n",
              "          docLink.innerHTML = docLinkHtml;\n",
              "          element.appendChild(docLink);\n",
              "        }\n",
              "      </script>\n",
              "    </div>\n",
              "  </div>\n",
              "  "
            ],
            "text/plain": [
              "               Id  SepalLengthCm  SepalWidthCm  PetalLengthCm  PetalWidthCm\n",
              "count  150.000000     150.000000    150.000000     150.000000    150.000000\n",
              "mean    75.500000       5.843333      3.054000       3.758667      1.198667\n",
              "std     43.445368       0.828066      0.433594       1.764420      0.763161\n",
              "min      1.000000       4.300000      2.000000       1.000000      0.100000\n",
              "25%     38.250000       5.100000      2.800000       1.600000      0.300000\n",
              "50%     75.500000       5.800000      3.000000       4.350000      1.300000\n",
              "75%    112.750000       6.400000      3.300000       5.100000      1.800000\n",
              "max    150.000000       7.900000      4.400000       6.900000      2.500000"
            ]
          },
          "execution_count": 4,
          "metadata": {},
          "output_type": "execute_result"
        }
      ],
      "source": [
        "iris_df.describe()"
      ]
    },
    {
      "cell_type": "markdown",
      "metadata": {
        "id": "8yZxrO6IoDk9"
      },
      "source": [
        "## Scatter Plot\n",
        "Comparison on various species based on Sepal length and width"
      ]
    },
    {
      "cell_type": "code",
      "execution_count": null,
      "metadata": {
        "colab": {
          "base_uri": "https://localhost:8080/",
          "height": 489
        },
        "id": "K6qMDl0noXqd",
        "outputId": "223494f1-db47-4a74-83be-9cab40d0b17b"
      },
      "outputs": [
        {
          "data": {
            "text/plain": [
              "<Axes: title={'center': 'Comparison on various species based on Sepal length and width'}, xlabel='SepalLengthCm', ylabel='SepalWidthCm'>"
            ]
          },
          "execution_count": 16,
          "metadata": {},
          "output_type": "execute_result"
        },
        {
          "data": {
            "image/png": "[encoded data removed]",
            "text/plain": [
              "<Figure size 640x480 with 1 Axes>"
            ]
          },
          "metadata": {},
          "output_type": "display_data"
        }
      ],
      "source": [
        "import matplotlib.pyplot as plt\n",
        "import seaborn as sns\n",
        "\n",
        "# scatterplot\n",
        "plt.title(\"Comparison on various species based on Sepal length and width\")\n",
        "sns.scatterplot(x=iris_df['SepalLengthCm'], y=iris_df['SepalWidthCm'], hue=iris_df['Species'],s=50)\n"
      ]
    },
    {
      "cell_type": "markdown",
      "metadata": {
        "id": "rNZnJIKcngpz"
      },
      "source": [
        "## Find Correlation Matrix"
      ]
    },
    {
      "cell_type": "code",
      "execution_count": null,
      "metadata": {
        "colab": {
          "base_uri": "https://localhost:8080/"
        },
        "id": "Md_oIFLwqU94",
        "outputId": "c25b0c02-e6eb-4d37-b75b-f99125b1e616"
      },
      "outputs": [
        {
          "name": "stdout",
          "output_type": "stream",
          "text": [
            "                     Id  SepalLengthCm  SepalWidthCm  PetalLengthCm  \\\n",
            "Id             1.000000       0.716676     -0.397729       0.882747   \n",
            "SepalLengthCm  0.716676       1.000000     -0.109369       0.871754   \n",
            "SepalWidthCm  -0.397729      -0.109369      1.000000      -0.420516   \n",
            "PetalLengthCm  0.882747       0.871754     -0.420516       1.000000   \n",
            "PetalWidthCm   0.899759       0.817954     -0.356544       0.962757   \n",
            "\n",
            "               PetalWidthCm  \n",
            "Id                 0.899759  \n",
            "SepalLengthCm      0.817954  \n",
            "SepalWidthCm      -0.356544  \n",
            "PetalLengthCm      0.962757  \n",
            "PetalWidthCm       1.000000  \n"
          ]
        },
        {
          "name": "stderr",
          "output_type": "stream",
          "text": [
            "<ipython-input-17-c49ef472e656>:2: FutureWarning: The default value of numeric_only in DataFrame.corr is deprecated. In a future version, it will default to False. Select only valid columns or specify the value of numeric_only to silence this warning.\n",
            "  iris_corr = iris_df.corr()\n"
          ]
        }
      ],
      "source": [
        "# find correlation matrix\n",
        "iris_corr = iris_df.corr()\n",
        "print(iris_corr)"
      ]
    },
    {
      "cell_type": "code",
      "execution_count": null,
      "metadata": {
        "colab": {
          "base_uri": "https://localhost:8080/",
          "height": 548
        },
        "id": "0yz7as75q6_n",
        "outputId": "1581c5f7-b954-4601-8116-f7d56e7dc63f"
      },
      "outputs": [
        {
          "data": {
            "text/plain": [
              "<Axes: >"
            ]
          },
          "execution_count": 21,
          "metadata": {},
          "output_type": "execute_result"
        },
        {
          "data": {
            "image/png": "[encoded data removed]",
            "text/plain": [
              "<Figure size 640x480 with 2 Axes>"
            ]
          },
          "metadata": {},
          "output_type": "display_data"
        }
      ],
      "source": [
        "# Heat Map\n",
        "sns.heatmap(iris_corr, annot = True)"
      ]
    },
    {
      "cell_type": "markdown",
      "metadata": {
        "id": "oLbOtNyjreeN"
      },
      "source": [
        "## ANOVA"
      ]
    },
    {
      "cell_type": "markdown",
      "metadata": {
        "id": "uKdNfKFIiop2"
      },
      "source": [
        "## Intro:\n",
        "**ANOVA - ANalysis Of VAriance** is a parametric statistical technique that helps in finding out if there is a significant difference between the mean of three or more groups.\n",
        "\n",
        "1. Conditions\n",
        "- the samples have a normal distribution.\n",
        "- the samples are selected at random and should be independent of one another.\n",
        "- all groups have equal standard deviations.\n",
        "\n",
        "\n",
        "2. One Way ANOVA:\n",
        "It is a type of hypothesis test where only one factor is considered. We use F-statistic to perform a one-way analysis of variance.\n",
        "\n",
        "3. Important terms:\n",
        "\n",
        " - **F - statistic**: The F-statistic in ANOVA is a ratio of two variances, or technically, two mean squares.  **F-statistic is used to determine whether the variability between group means is larger than the variability of the observations within the groups.** If that ratio is sufficiently large, you can conclude that not all the means are equal.\n",
        "  - The F-statistic is typically compared to a critical value to determine whether the differences between the groups are statistically significant. The critical value is a value that is based on the significance level of the test and the degrees of freedom.\n",
        "\n",
        " - **P - value**: p-value is a measure of the probability of obtaining the observed results, assuming that the null hypothesis is true. The lower the p-value, the more likely it is that the observed results are due to something other than chance.\n",
        " In other words, a **p-value is a measure of how surprising the observed results are, given the null hypothesis.**\n",
        "\n",
        "\n",
        "\n",
        "Steps:\n",
        "- null hypothesis: H0 -> μ1 = μ2 = μ3 (where μ = mean)\n",
        "- alternate hypothesis: Ha -> At least one difference among the means\n",
        "- degrees of freedom (DF) refer to the number of independent values that can be estimated from the sample data.\n",
        "```\n",
        "    DF(between) = no. of grps - 1\n",
        "    DF(within) = total samples in all grps - no. of grps\n",
        "    DF(total) = DF(between) + DF(within)\n",
        "```\n",
        "- find grand mean\n",
        "```\n",
        "    Mean(grand) = m1 + m2 + m3/ 3\n",
        "    where m1, m2, m3 are means of different groups\n",
        "```\n",
        "- Sum of Squares:\n",
        "sum of squares (SS) is a measure of the variation in the data. It is calculated by squaring the difference between each observation and the mean, and then summing the squared differences.\n",
        "```\n",
        "    SS(total) = sum(Xi - mean(grand))^2\n",
        "    SS(within) = sum(Xi - mean(grp i))^2\n",
        "    SS(between) = SS(total) - SS(within)\n",
        "```\n",
        "- Find the variance (μ2 or S2) between and within samples:\n",
        "```\n",
        "    S^2(between) = SS(between)/DF(between)\n",
        "    S^2(within) = SS(within)/DF(within)\n",
        "```\n",
        "- Find **f-statistic** or f(calculated):\n",
        "f- statistic = variance between samples / variance within samples\n",
        "```\n",
        "    f-statistic = f(calc) = S^2(between)/S^2(within)\n",
        "```\n",
        "- Find f(table):\n",
        "Refer the F-Distribution table and find f(table) using DF(between) and DF(within).\n",
        "\n",
        "```\n",
        "if Fcalc < Ftable :\n",
        "    Don't reject null hypothesis.\n",
        "    μ1 = μ2 = μ3\n",
        "    \n",
        "if Fcalc > Ftable :\n",
        "    Reject null hypothesis.\n",
        "\n",
        "```\n",
        "\n"
      ]
    },
    {
      "cell_type": "code",
      "execution_count": null,
      "metadata": {
        "colab": {
          "base_uri": "https://localhost:8080/"
        },
        "id": "GyvpTmvVrduw",
        "outputId": "b9a0b3eb-f695-4d2d-fd60-0d9ad5b6cdee"
      },
      "outputs": [
        {
          "name": "stdout",
          "output_type": "stream",
          "text": [
            "ANOVA RESULTS:\n",
            "F-statistic:  1689.2025076741988\n",
            "p_value:  4.124083002995293e-209\n"
          ]
        }
      ],
      "source": [
        "import scipy\n",
        "from scipy.stats import f_oneway\n",
        "\n",
        "# Perform ANOVA\n",
        "# The F-statistic is a ratio of two variances\n",
        "# p-value is a measure of the probability of obtaining the observed results\n",
        "f_statistic, p_value = f_oneway(iris_df['SepalLengthCm'], iris_df['SepalWidthCm'], iris_df['PetalWidthCm'])\n",
        "\n",
        "# Print the results\n",
        "print(\"ANOVA RESULTS:\\nF-statistic: \", f_statistic)\n",
        "print(\"p_value: \", p_value)\n"
      ]
    },
    {
      "cell_type": "code",
      "execution_count": 5,
      "metadata": {
        "id": "8WHwzWgPZ8rd"
      },
      "outputs": [
        {
          "name": "stdout",
          "output_type": "stream",
          "text": [
            "Help on function f_oneway in module scipy.stats._stats_py:\n",
            "\n",
            "f_oneway(*samples, axis=0)\n",
            "    Perform one-way ANOVA.\n",
            "    \n",
            "    The one-way ANOVA tests the null hypothesis that two or more groups have\n",
            "    the same population mean.  The test is applied to samples from two or\n",
            "    more groups, possibly with differing sizes.\n",
            "    \n",
            "    Parameters\n",
            "    ----------\n",
            "    sample1, sample2, ... : array_like\n",
            "        The sample measurements for each group.  There must be at least\n",
            "        two arguments.  If the arrays are multidimensional, then all the\n",
            "        dimensions of the array must be the same except for `axis`.\n",
            "    axis : int, optional\n",
            "        Axis of the input arrays along which the test is applied.\n",
            "        Default is 0.\n",
            "    \n",
            "    Returns\n",
            "    -------\n",
            "    statistic : float\n",
            "        The computed F statistic of the test.\n",
            "    pvalue : float\n",
            "        The associated p-value from the F distribution.\n",
            "    \n",
            "    Warns\n",
            "    -----\n",
            "    `~scipy.stats.ConstantInputWarning`\n",
            "        Raised if all values within each of the input arrays are identical.\n",
            "        In this case the F statistic is either infinite or isn't defined,\n",
            "        so ``np.inf`` or ``np.nan`` is returned.\n",
            "    \n",
            "    `~scipy.stats.DegenerateDataWarning`\n",
            "        Raised if the length of any input array is 0, or if all the input\n",
            "        arrays have length 1.  ``np.nan`` is returned for the F statistic\n",
            "        and the p-value in these cases.\n",
            "    \n",
            "    Notes\n",
            "    -----\n",
            "    The ANOVA test has important assumptions that must be satisfied in order\n",
            "    for the associated p-value to be valid.\n",
            "    \n",
            "    1. The samples are independent.\n",
            "    2. Each sample is from a normally distributed population.\n",
            "    3. The population standard deviations of the groups are all equal.  This\n",
            "       property is known as homoscedasticity.\n",
            "    \n",
            "    If these assumptions are not true for a given set of data, it may still\n",
            "    be possible to use the Kruskal-Wallis H-test (`scipy.stats.kruskal`) or\n",
            "    the Alexander-Govern test (`scipy.stats.alexandergovern`) although with\n",
            "    some loss of power.\n",
            "    \n",
            "    The length of each group must be at least one, and there must be at\n",
            "    least one group with length greater than one.  If these conditions\n",
            "    are not satisfied, a warning is generated and (``np.nan``, ``np.nan``)\n",
            "    is returned.\n",
            "    \n",
            "    If all values in each group are identical, and there exist at least two\n",
            "    groups with different values, the function generates a warning and\n",
            "    returns (``np.inf``, 0).\n",
            "    \n",
            "    If all values in all groups are the same, function generates a warning\n",
            "    and returns (``np.nan``, ``np.nan``).\n",
            "    \n",
            "    The algorithm is from Heiman [2]_, pp.394-7.\n",
            "    \n",
            "    References\n",
            "    ----------\n",
            "    .. [1] R. Lowry, \"Concepts and Applications of Inferential Statistics\",\n",
            "           Chapter 14, 2014, http://vassarstats.net/textbook/\n",
            "    \n",
            "    .. [2] G.W. Heiman, \"Understanding research methods and statistics: An\n",
            "           integrated introduction for psychology\", Houghton, Mifflin and\n",
            "           Company, 2001.\n",
            "    \n",
            "    .. [3] G.H. McDonald, \"Handbook of Biological Statistics\", One-way ANOVA.\n",
            "           http://www.biostathandbook.com/onewayanova.html\n",
            "    \n",
            "    Examples\n",
            "    --------\n",
            "    >>> import numpy as np\n",
            "    >>> from scipy.stats import f_oneway\n",
            "    \n",
            "    Here are some data [3]_ on a shell measurement (the length of the anterior\n",
            "    adductor muscle scar, standardized by dividing by length) in the mussel\n",
            "    Mytilus trossulus from five locations: Tillamook, Oregon; Newport, Oregon;\n",
            "    Petersburg, Alaska; Magadan, Russia; and Tvarminne, Finland, taken from a\n",
            "    much larger data set used in McDonald et al. (1991).\n",
            "    \n",
            "    >>> tillamook = [0.0571, 0.0813, 0.0831, 0.0976, 0.0817, 0.0859, 0.0735,\n",
            "    ...              0.0659, 0.0923, 0.0836]\n",
            "    >>> newport = [0.0873, 0.0662, 0.0672, 0.0819, 0.0749, 0.0649, 0.0835,\n",
            "    ...            0.0725]\n",
            "    >>> petersburg = [0.0974, 0.1352, 0.0817, 0.1016, 0.0968, 0.1064, 0.105]\n",
            "    >>> magadan = [0.1033, 0.0915, 0.0781, 0.0685, 0.0677, 0.0697, 0.0764,\n",
            "    ...            0.0689]\n",
            "    >>> tvarminne = [0.0703, 0.1026, 0.0956, 0.0973, 0.1039, 0.1045]\n",
            "    >>> f_oneway(tillamook, newport, petersburg, magadan, tvarminne)\n",
            "    F_onewayResult(statistic=7.121019471642447, pvalue=0.0002812242314534544)\n",
            "    \n",
            "    `f_oneway` accepts multidimensional input arrays.  When the inputs\n",
            "    are multidimensional and `axis` is not given, the test is performed\n",
            "    along the first axis of the input arrays.  For the following data, the\n",
            "    test is performed three times, once for each column.\n",
            "    \n",
            "    >>> a = np.array([[9.87, 9.03, 6.81],\n",
            "    ...               [7.18, 8.35, 7.00],\n",
            "    ...               [8.39, 7.58, 7.68],\n",
            "    ...               [7.45, 6.33, 9.35],\n",
            "    ...               [6.41, 7.10, 9.33],\n",
            "    ...               [8.00, 8.24, 8.44]])\n",
            "    >>> b = np.array([[6.35, 7.30, 7.16],\n",
            "    ...               [6.65, 6.68, 7.63],\n",
            "    ...               [5.72, 7.73, 6.72],\n",
            "    ...               [7.01, 9.19, 7.41],\n",
            "    ...               [7.75, 7.87, 8.30],\n",
            "    ...               [6.90, 7.97, 6.97]])\n",
            "    >>> c = np.array([[3.31, 8.77, 1.01],\n",
            "    ...               [8.25, 3.24, 3.62],\n",
            "    ...               [6.32, 8.81, 5.19],\n",
            "    ...               [7.48, 8.83, 8.91],\n",
            "    ...               [8.59, 6.01, 6.07],\n",
            "    ...               [3.07, 9.72, 7.48]])\n",
            "    >>> F, p = f_oneway(a, b, c)\n",
            "    >>> F\n",
            "    array([1.75676344, 0.03701228, 3.76439349])\n",
            "    >>> p\n",
            "    array([0.20630784, 0.96375203, 0.04733157])\n",
            "\n"
          ]
        }
      ],
      "source": [
        "help(f_oneway)"
      ]
    },
    {
      "cell_type": "code",
      "execution_count": null,
      "metadata": {},
      "outputs": [],
      "source": []
    }
  ],
  "metadata": {
    "colab": {
      "provenance": [],
      "toc_visible": true
    },
    "kernelspec": {
      "display_name": "Python 3",
      "name": "python3"
    },
    "language_info": {
      "name": "python"
    }
  },
  "nbformat": 4,
  "nbformat_minor": 0
}

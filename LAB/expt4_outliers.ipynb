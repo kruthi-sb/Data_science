{
  "cells": [
    {
      "cell_type": "markdown",
      "metadata": {
        "id": "vSRkY8B-Xdsa"
      },
      "source": [
        "# Expt - 4: Outliers\n"
      ]
    },
    {
      "cell_type": "markdown",
      "metadata": {
        "id": "ngAcshM9YipT"
      },
      "source": [
        "To perform the following methods in order to remove outliers\n",
        "- Standard Deviation Method\n",
        "- Interquartile Range Method\n",
        "- Automatic outlier Detection\n",
        "\n",
        "\n"
      ]
    },
    {
      "cell_type": "markdown",
      "metadata": {
        "id": "tyx1cam_ZXBb"
      },
      "source": [
        "## 1. Standard Deviation Method"
      ]
    },
    {
      "cell_type": "markdown",
      "metadata": {
        "id": "21J155u1n2qw"
      },
      "source": [
        "A z-score measures the distance between a data point and the mean using standard deviations."
      ]
    },
    {
      "cell_type": "code",
      "execution_count": 1,
      "metadata": {
        "colab": {
          "base_uri": "https://localhost:8080/",
          "height": 364
        },
        "id": "IWVeqNoDXWHN",
        "outputId": "40305500-200f-4fdf-c9c9-3ca86b3ad119"
      },
      "outputs": [
        {
          "data": {
            "image/png": "[encoded data removed]",
            "text/plain": [
              "<Figure size 400x300 with 1 Axes>"
            ]
          },
          "metadata": {},
          "output_type": "display_data"
        },
        {
          "name": "stdout",
          "output_type": "stream",
          "text": [
            "Mean =  5.944444444444445 \n",
            "Std =  11.007432954459162\n",
            "Outliers:\n",
            " [50]\n"
          ]
        }
      ],
      "source": [
        "import numpy as np\n",
        "import matplotlib.pyplot as plt\n",
        "data = [1, 2, 5, 6, 3, 1, 1, 7, 2, 2, 2, 3, 1, 1, 2, 8, 10, 50]\n",
        "\n",
        "# construct boxplot to see if there are outliers:\n",
        "plt.figure(figsize = (4,3))\n",
        "plt.boxplot(data, vert = False)\n",
        "plt.show()\n",
        "\n",
        "# get the mean and standard deviation of the data:\n",
        "mean = np.mean(data)\n",
        "std = np.std(data)\n",
        "print(\"Mean = \", mean, \"\\nStd = \", std)\n",
        "\n",
        "# define threshold of z score and get the outliers\n",
        "threshold = 3\n",
        "outliers = []\n",
        "for i in data:\n",
        "    z = (i - mean)/ std\n",
        "    if z > threshold:\n",
        "        outliers.append(i)\n",
        "\n",
        "print(\"Outliers:\\n\", outliers)\n",
        "\n"
      ]
    },
    {
      "cell_type": "markdown",
      "metadata": {
        "id": "Dx7GoQIIdUyw"
      },
      "source": [
        "### KDE plot"
      ]
    },
    {
      "cell_type": "code",
      "execution_count": 22,
      "metadata": {
        "colab": {
          "base_uri": "https://localhost:8080/",
          "height": 291
        },
        "id": "8PylPHSxZl5x",
        "outputId": "fcd45f9f-1977-464e-a584-09c40b0dcdca"
      },
      "outputs": [
        {
          "data": {
            "image/png": "[encoded data removed]",
            "text/plain": [
              "<Figure size 400x300 with 1 Axes>"
            ]
          },
          "metadata": {},
          "output_type": "display_data"
        }
      ],
      "source": [
        "import seaborn as sns\n",
        "plt.figure(figsize = (4,3))\n",
        "sns.kdeplot(a, fill = True)\n",
        "plt.show()"
      ]
    },
    {
      "cell_type": "markdown",
      "metadata": {
        "id": "1Js7MQ3BikBQ"
      },
      "source": [
        "## 2. Interquartile Range Method"
      ]
    },
    {
      "cell_type": "code",
      "execution_count": 29,
      "metadata": {
        "colab": {
          "base_uri": "https://localhost:8080/",
          "height": 510
        },
        "id": "x6gnkZKKc0Yv",
        "outputId": "d6de328b-c965-45ca-cfc4-eef24afbbbc0"
      },
      "outputs": [
        {
          "data": {
            "image/png": "[encoded data removed]",
            "text/plain": [
              "<Figure size 400x300 with 1 Axes>"
            ]
          },
          "metadata": {},
          "output_type": "display_data"
        },
        {
          "name": "stdout",
          "output_type": "stream",
          "text": [
            "Quartile values using numpy:\n",
            "Q1 =  7.75 \n",
            "Q3 =  11.25\n",
            "Quartile values using pandas:\n",
            "Q1_pd =  7.75 \n",
            "Q3_pd =  11.25\n",
            "\n",
            "Boundaries:\n",
            "lower =  2.5 \n",
            "upper =  16.5\n",
            "\n",
            "Outliers:  [ 1 30]\n"
          ]
        }
      ],
      "source": [
        "# define data\n",
        "data = np.array([1, 7, 8, 9, 10, 11, 12, 30])\n",
        "\n",
        "# boxplot\n",
        "plt.figure(figsize = (4,3))\n",
        "plt.boxplot(data, vert = False)\n",
        "plt.show()\n",
        "\n",
        "# get quartile values using numpy\n",
        "Q1, Q3 = np.percentile(data, (25, 75))\n",
        "print(\"Quartile values using numpy:\")\n",
        "print(\"Q1 = \", Q1, \"\\nQ3 = \", Q3)\n",
        "\n",
        "# get quartile values using pandas\n",
        "import pandas as pd\n",
        "data_df = pd.DataFrame(data)\n",
        "Q1_pd = data_df.quantile(0.25)\n",
        "Q3_pd = data_df.quantile(0.75)\n",
        "print(\"Quartile values using pandas:\")\n",
        "print(\"Q1_pd = \", Q1_pd[0], \"\\nQ3_pd = \", Q3_pd[0])\n",
        "\n",
        "# calculate IQR and boundry values:\n",
        "IQR = Q3 - Q1\n",
        "lower_bound = Q1 - (1.5*IQR)\n",
        "upper_bound = Q3 + (1.5*IQR)\n",
        "print(\"\\nBoundaries:\")\n",
        "print(\"lower = \", lower_bound, \"\\nupper = \", upper_bound)\n",
        "\n",
        "# create conditions to isolate the outliers\n",
        "outliers = data[(data < lower_bound)| (data> upper_bound)]\n",
        "print(\"\\nOutliers: \", outliers)\n"
      ]
    },
    {
      "cell_type": "markdown",
      "metadata": {
        "id": "qgIKHKLUnLei"
      },
      "source": [
        "## Automatic outlier Detection – Isolation Forest"
      ]
    },
    {
      "cell_type": "markdown",
      "metadata": {
        "id": "1jVb3aRQvBjE"
      },
      "source": [
        "### Salary Data"
      ]
    },
    {
      "cell_type": "code",
      "execution_count": 45,
      "metadata": {
        "colab": {
          "base_uri": "https://localhost:8080/",
          "height": 832
        },
        "id": "o9BpOOi7jIMt",
        "outputId": "2b801d42-74d8-4a4d-f6d9-a700f99d1574"
      },
      "outputs": [
        {
          "name": "stdout",
          "output_type": "stream",
          "text": [
            "['sepal length (cm)', 'sepal width (cm)', 'petal length (cm)', 'petal width (cm)']\n"
          ]
        },
        {
          "data": {
            "image/png": "[encoded data removed]",
            "text/plain": [
              "<Figure size 640x480 with 1 Axes>"
            ]
          },
          "metadata": {},
          "output_type": "display_data"
        }
      ],
      "source": [
        "import numpy as np\n",
        "import pandas as pd\n",
        "import seaborn as sns\n",
        "import matplotlib.pyplot as plt\n",
        "from sklearn.ensemble import IsolationForest\n",
        "from sklearn.datasets import load_iris\n",
        "\n",
        "# iris\n",
        "df,y = load_iris(return_X_y=True, as_frame=True)\n",
        "\n",
        "# get the data\n",
        "'''df = pd.read_csv('/content/Salary_Data.csv')\n",
        "print(df.head(10))\n",
        "print(\"\\nDescription:\\n\",df.describe())'''\n",
        "\n",
        "data_info = load_iris()\n",
        "features = data_info[\"feature_names\"]\n",
        "\n",
        "print(features)\n",
        "\n",
        "# violin plot\n",
        "sns.violinplot(df[\"sepal length (cm)\"])\n",
        "plt.show()\n",
        "\n"
      ]
    },
    {
      "cell_type": "markdown",
      "metadata": {
        "id": "ZXQct2qlrkKn"
      },
      "source": [
        "### Isolation Forest Algorithm:\n",
        "\n",
        "Return the anomaly score of each sample using the IsolationForest algorithm\n",
        "The IsolationForest 'isolates' observations by randomly selecting a feature\n",
        "and then randomly selecting a split value between the maximum and minimum\n",
        "values of the selected feature.\n",
        "\n",
        "Isolation Forest isolates anomalies in the data points instead of profiling normal data points. As anomalies data points mostly have a lot shorter tree paths than the normal data points, trees in the isolation forest does not need to have a large depth so a smaller max_depth can be used resulting in low memory requirement.\n",
        "\n",
        "\n",
        "Parameters:\n",
        "- contamination :\n",
        "The amount of contamination of the data set, i.e. the proportion\n",
        "of outliers in the data set. Used when fitting to define the threshold\n",
        "on the scores of the samples."
      ]
    },
    {
      "cell_type": "code",
      "execution_count": 62,
      "metadata": {
        "colab": {
          "base_uri": "https://localhost:8080/"
        },
        "id": "qRFJu0kSnSpg",
        "outputId": "77cfab72-862a-4606-a678-8f608473cc21"
      },
      "outputs": [
        {
          "name": "stdout",
          "output_type": "stream",
          "text": [
            "   sepal length (cm)  sepal width (cm)  petal length (cm)  petal width (cm)  \\\n",
            "0                5.1               3.5                1.4               0.2   \n",
            "1                4.9               3.0                1.4               0.2   \n",
            "2                4.7               3.2                1.3               0.2   \n",
            "3                4.6               3.1                1.5               0.2   \n",
            "4                5.0               3.6                1.4               0.2   \n",
            "\n",
            "     scores  anomaly  \n",
            "0  0.120361        1  \n",
            "1  0.064071        1  \n",
            "2 -0.015956       -1  \n",
            "3  0.019855        1  \n",
            "4  0.114674        1  \n"
          ]
        },
        {
          "name": "stderr",
          "output_type": "stream",
          "text": [
            "[Parallel(n_jobs=1)]: Using backend SequentialBackend with 1 concurrent workers.\n",
            "[Parallel(n_jobs=1)]: Done   1 out of   1 | elapsed:    0.0s finished\n",
            "c:\\Users\\kruth\\AppData\\Local\\Programs\\Python\\Python311\\Lib\\site-packages\\sklearn\\base.py:409: UserWarning: X does not have valid feature names, but IsolationForest was fitted with feature names\n",
            "  warnings.warn(\n"
          ]
        }
      ],
      "source": [
        "# create a model and fit it to the data\n",
        "model = IsolationForest(n_estimators=50, max_samples='auto', contamination=float(0.1),max_features=1, verbose = 1)\n",
        "model.fit(df[['sepal length (cm)']])\n",
        "\n",
        "# add other columns scores and anomaly\n",
        "df[\"scores\"] = model.decision_function(df[[\"sepal length (cm)\"]])\n",
        "df[\"anomaly\"] = model.predict(df[[\"sepal length (cm)\"]])\n",
        "print(df.head(5))"
      ]
    },
    {
      "cell_type": "markdown",
      "metadata": {
        "id": "S9QwHnppvVDC"
      },
      "source": [
        "### Get Outliers"
      ]
    },
    {
      "cell_type": "code",
      "execution_count": 60,
      "metadata": {
        "colab": {
          "base_uri": "https://localhost:8080/"
        },
        "id": "jN4D8-BfpL86",
        "outputId": "397ab813-f45c-44aa-edc9-d9f01abefe71"
      },
      "outputs": [
        {
          "name": "stdout",
          "output_type": "stream",
          "text": [
            "Anomalies: \n",
            "      sepal length (cm)  sepal width (cm)  petal length (cm)  petal width (cm)  \\\n",
            "8                  4.4               2.9                1.4               0.2   \n",
            "13                 4.3               3.0                1.1               0.1   \n",
            "38                 4.4               3.0                1.3               0.2   \n",
            "41                 4.5               2.3                1.3               0.3   \n",
            "42                 4.4               3.2                1.3               0.2   \n",
            "48                 5.3               3.7                1.5               0.2   \n",
            "50                 7.0               3.2                4.7               1.4   \n",
            "102                7.1               3.0                5.9               2.1   \n",
            "105                7.6               3.0                6.6               2.1   \n",
            "107                7.3               2.9                6.3               1.8   \n",
            "130                7.4               2.8                6.1               1.9   \n",
            "131                7.9               3.8                6.4               2.0   \n",
            "\n",
            "       scores  anomaly  \n",
            "8   -0.040938       -1  \n",
            "13  -0.153455       -1  \n",
            "38  -0.040938       -1  \n",
            "41  -0.075623       -1  \n",
            "42  -0.040938       -1  \n",
            "48  -0.036697       -1  \n",
            "50  -0.018041       -1  \n",
            "102 -0.031646       -1  \n",
            "105 -0.057789       -1  \n",
            "107 -0.020931       -1  \n",
            "130 -0.043833       -1  \n",
            "131 -0.171433       -1  \n",
            "\n",
            "Outlier Count:  12\n"
          ]
        }
      ],
      "source": [
        "# get the data points where anomaly = -1:\n",
        "anomalies = df.loc[df[\"anomaly\"]==-1]\n",
        "print(\"Anomalies: \\n\", anomalies)\n",
        "outliers_count = len(anomalies)\n",
        "print(\"\\nOutlier Count: \", outliers_count)"
      ]
    },
    {
      "cell_type": "code",
      "execution_count": null,
      "metadata": {
        "id": "nCe-I-gZs-Bv"
      },
      "outputs": [],
      "source": []
    }
  ],
  "metadata": {
    "colab": {
      "provenance": [],
      "toc_visible": true
    },
    "kernelspec": {
      "display_name": "Python 3",
      "name": "python3"
    },
    "language_info": {
      "codemirror_mode": {
        "name": "ipython",
        "version": 3
      },
      "file_extension": ".py",
      "mimetype": "text/x-python",
      "name": "python",
      "nbconvert_exporter": "python",
      "pygments_lexer": "ipython3",
      "version": "3.11.1"
    }
  },
  "nbformat": 4,
  "nbformat_minor": 0
}

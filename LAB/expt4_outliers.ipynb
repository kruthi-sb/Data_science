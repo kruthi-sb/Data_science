{
  "nbformat": 4,
  "nbformat_minor": 0,
  "metadata": {
    "colab": {
      "provenance": [],
      "toc_visible": true
    },
    "kernelspec": {
      "name": "python3",
      "display_name": "Python 3"
    },
    "language_info": {
      "name": "python"
    }
  },
  "cells": [
    {
      "cell_type": "markdown",
      "source": [
        "# Expt - 4: Outliers\n"
      ],
      "metadata": {
        "id": "vSRkY8B-Xdsa"
      }
    },
    {
      "cell_type": "markdown",
      "source": [
        "To perform the following methods in order to remove outliers\n",
        "- Standard Deviation Method\n",
        "- Interquartile Range Method\n",
        "- Automatic outlier Detection\n",
        "\n",
        "\n"
      ],
      "metadata": {
        "id": "ngAcshM9YipT"
      }
    },
    {
      "cell_type": "markdown",
      "source": [
        "## 1. Standard Deviation Method"
      ],
      "metadata": {
        "id": "tyx1cam_ZXBb"
      }
    },
    {
      "cell_type": "markdown",
      "source": [
        "A z-score measures the distance between a data point and the mean using standard deviations."
      ],
      "metadata": {
        "id": "21J155u1n2qw"
      }
    },
    {
      "cell_type": "code",
      "execution_count": null,
      "metadata": {
        "colab": {
          "base_uri": "https://localhost:8080/",
          "height": 364
        },
        "id": "IWVeqNoDXWHN",
        "outputId": "40305500-200f-4fdf-c9c9-3ca86b3ad119"
      },
      "outputs": [
        {
          "output_type": "display_data",
          "data": {
            "text/plain": [
              "<Figure size 400x300 with 1 Axes>"
            ],
            "image/png": "[encoded data removed]"
          },
          "metadata": {}
        },
        {
          "output_type": "stream",
          "name": "stdout",
          "text": [
            "Mean =  5.944444444444445 \n",
            "Std =  11.007432954459162\n",
            "Outliers:\n",
            " [50]\n"
          ]
        }
      ],
      "source": [
        "import numpy as np\n",
        "import matplotlib.pyplot as plt\n",
        "data = [1, 2, 5, 6, 3, 1, 1, 7, 2, 2, 2, 3, 1, 1, 2, 8, 10, 50]\n",
        "\n",
        "# construct boxplot to see if there are outliers:\n",
        "plt.figure(figsize = (4,3))\n",
        "plt.boxplot(data, vert = False)\n",
        "plt.show()\n",
        "\n",
        "# get the mean and standard deviation of the data:\n",
        "mean = np.mean(data)\n",
        "std = np.std(data)\n",
        "print(\"Mean = \", mean, \"\\nStd = \", std)\n",
        "\n",
        "# define threshold of z score and get the outliers\n",
        "threshold = 3\n",
        "outliers = []\n",
        "for i in data:\n",
        "    z = (i - mean)/ std\n",
        "    if z > threshold:\n",
        "        outliers.append(i)\n",
        "\n",
        "print(\"Outliers:\\n\", outliers)\n",
        "\n"
      ]
    },
    {
      "cell_type": "markdown",
      "source": [
        "### KDE plot"
      ],
      "metadata": {
        "id": "Dx7GoQIIdUyw"
      }
    },
    {
      "cell_type": "code",
      "source": [
        "import seaborn as sns\n",
        "plt.figure(figsize = (4,3))\n",
        "sns.kdeplot(data, fill = True)\n",
        "plt.show()"
      ],
      "metadata": {
        "colab": {
          "base_uri": "https://localhost:8080/",
          "height": 291
        },
        "id": "8PylPHSxZl5x",
        "outputId": "fcd45f9f-1977-464e-a584-09c40b0dcdca"
      },
      "execution_count": null,
      "outputs": [
        {
          "output_type": "display_data",
          "data": {
            "text/plain": [
              "<Figure size 400x300 with 1 Axes>"
            ],
            "image/png": "[encoded data removed]"
          },
          "metadata": {}
        }
      ]
    },
    {
      "cell_type": "markdown",
      "source": [
        "## 2. Interquartile Range Method"
      ],
      "metadata": {
        "id": "1Js7MQ3BikBQ"
      }
    },
    {
      "cell_type": "code",
      "source": [
        "# define data\n",
        "data = np.array([1, 7, 8, 9, 10, 11, 12, 30])\n",
        "\n",
        "# boxplot\n",
        "plt.figure(figsize = (4,3))\n",
        "plt.boxplot(data, vert = False)\n",
        "plt.show()\n",
        "\n",
        "# get quartile values using numpy\n",
        "Q1, Q3 = np.percentile(data, (25, 75))\n",
        "print(\"Quartile values using numpy:\")\n",
        "print(\"Q1 = \", Q1, \"\\nQ3 = \", Q3)\n",
        "\n",
        "# get quartile values using pandas\n",
        "import pandas as pd\n",
        "data_df = pd.DataFrame(data)\n",
        "Q1_pd = data_df.quantile(0.25)\n",
        "Q3_pd = data_df.quantile(0.75)\n",
        "print(\"Quartile values using pandas:\")\n",
        "print(\"Q1_pd = \", Q1_pd[0], \"\\nQ3_pd = \", Q3_pd[0])\n",
        "\n",
        "# calculate IQR and boundry values:\n",
        "IQR = Q3 - Q1\n",
        "lower_bound = Q1 - (1.5*IQR)\n",
        "upper_bound = Q3 + (1.5*IQR)\n",
        "print(\"\\nBoundaries:\")\n",
        "print(\"lower = \", lower_bound, \"\\nupper = \", upper_bound)\n",
        "\n",
        "# create conditions to isolate the outliers\n",
        "outliers = data[(data < lower_bound)| (data> upper_bound)]\n",
        "print(\"\\nOutliers: \", outliers)\n"
      ],
      "metadata": {
        "colab": {
          "base_uri": "https://localhost:8080/",
          "height": 510
        },
        "id": "x6gnkZKKc0Yv",
        "outputId": "d6de328b-c965-45ca-cfc4-eef24afbbbc0"
      },
      "execution_count": null,
      "outputs": [
        {
          "output_type": "display_data",
          "data": {
            "text/plain": [
              "<Figure size 400x300 with 1 Axes>"
            ],
            "image/png": "[encoded data removed]"
          },
          "metadata": {}
        },
        {
          "output_type": "stream",
          "name": "stdout",
          "text": [
            "Quartile values using numpy:\n",
            "Q1 =  7.75 \n",
            "Q3 =  11.25\n",
            "Quartile values using pandas:\n",
            "Q1_pd =  7.75 \n",
            "Q3_pd =  11.25\n",
            "\n",
            "Boundaries:\n",
            "lower =  2.5 \n",
            "upper =  16.5\n",
            "\n",
            "Outliers:  [ 1 30]\n"
          ]
        }
      ]
    },
    {
      "cell_type": "markdown",
      "source": [
        "## Automatic outlier Detection – Isolation Forest"
      ],
      "metadata": {
        "id": "qgIKHKLUnLei"
      }
    },
    {
      "cell_type": "markdown",
      "source": [
        "### Salary Data"
      ],
      "metadata": {
        "id": "1jVb3aRQvBjE"
      }
    },
    {
      "cell_type": "code",
      "source": [
        "import numpy as np\n",
        "import pandas as pd\n",
        "import seaborn as sns\n",
        "import matplotlib.pyplot as plt\n",
        "from sklearn.ensemble import IsolationForest\n",
        "\n",
        "# get the data\n",
        "df = pd.read_csv('/content/Salary_Data.csv')\n",
        "print(df.head(10))\n",
        "print(\"\\nDescription:\\n\",df.describe())\n",
        "\n",
        "# violin plot\n",
        "sns.violinplot(df.Salary)\n",
        "plt.show()\n",
        "\n"
      ],
      "metadata": {
        "colab": {
          "base_uri": "https://localhost:8080/",
          "height": 832
        },
        "id": "o9BpOOi7jIMt",
        "outputId": "2b801d42-74d8-4a4d-f6d9-a700f99d1574"
      },
      "execution_count": null,
      "outputs": [
        {
          "output_type": "stream",
          "name": "stdout",
          "text": [
            "   YearsExperience   Salary\n",
            "0              1.1  39343.0\n",
            "1              1.3  46205.0\n",
            "2              1.5  37731.0\n",
            "3              2.0  43525.0\n",
            "4              2.2  39891.0\n",
            "5              2.9  56642.0\n",
            "6              3.0  60150.0\n",
            "7              3.2  54445.0\n",
            "8              3.2  64445.0\n",
            "9              3.7  57189.0\n",
            "\n",
            "Description:\n",
            "        YearsExperience         Salary\n",
            "count        30.000000      30.000000\n",
            "mean          5.313333   76003.000000\n",
            "std           2.837888   27414.429785\n",
            "min           1.100000   37731.000000\n",
            "25%           3.200000   56720.750000\n",
            "50%           4.700000   65237.000000\n",
            "75%           7.700000  100544.750000\n",
            "max          10.500000  122391.000000\n"
          ]
        },
        {
          "output_type": "display_data",
          "data": {
            "text/plain": [
              "<Figure size 640x480 with 1 Axes>"
            ],
            "image/png": "[encoded data removed]"
          },
          "metadata": {}
        }
      ]
    },
    {
      "cell_type": "markdown",
      "source": [
        "### Isolation Forest Algorithm:\n",
        "\n",
        "Return the anomaly score of each sample using the IsolationForest algorithm\n",
        "The IsolationForest 'isolates' observations by randomly selecting a feature\n",
        "and then randomly selecting a split value between the maximum and minimum\n",
        "values of the selected feature.\n",
        "\n",
        "Isolation Forest isolates anomalies in the data points instead of profiling normal data points. As anomalies data points mostly have a lot shorter tree paths than the normal data points, trees in the isolation forest does not need to have a large depth so a smaller max_depth can be used resulting in low memory requirement.\n",
        "\n",
        "\n",
        "Parameters:\n",
        "- contamination :\n",
        "The amount of contamination of the data set, i.e. the proportion\n",
        "of outliers in the data set. Used when fitting to define the threshold\n",
        "on the scores of the samples."
      ],
      "metadata": {
        "id": "ZXQct2qlrkKn"
      }
    },
    {
      "cell_type": "code",
      "source": [
        "# create a model and fit it to the data\n",
        "model = IsolationForest(n_estimators=50, max_samples='auto', contamination=float(0.1),max_features=1.0, verbose = 1)\n",
        "model.fit(df[['Salary']])\n",
        "\n",
        "# add other columns scores and anomaly\n",
        "df[\"scores\"] = model.decision_function(df[[\"Salary\"]])\n",
        "df[\"anomaly\"] = model.predict(df[[\"Salary\"]])\n",
        "print(df.head(5))"
      ],
      "metadata": {
        "colab": {
          "base_uri": "https://localhost:8080/"
        },
        "id": "qRFJu0kSnSpg",
        "outputId": "77cfab72-862a-4606-a678-8f608473cc21"
      },
      "execution_count": null,
      "outputs": [
        {
          "output_type": "stream",
          "name": "stdout",
          "text": [
            "   YearsExperience   Salary    scores  anomaly\n",
            "0              1.1  39343.0  0.025162        1\n",
            "1              1.3  46205.0  0.017033        1\n",
            "2              1.5  37731.0 -0.049268       -1\n",
            "3              2.0  43525.0  0.016656        1\n",
            "4              2.2  39891.0  0.032016        1\n"
          ]
        },
        {
          "output_type": "stream",
          "name": "stderr",
          "text": [
            "[Parallel(n_jobs=1)]: Using backend SequentialBackend with 1 concurrent workers.\n",
            "[Parallel(n_jobs=1)]: Done   1 out of   1 | elapsed:    0.1s finished\n",
            "/usr/local/lib/python3.10/dist-packages/sklearn/base.py:439: UserWarning: X does not have valid feature names, but IsolationForest was fitted with feature names\n",
            "  warnings.warn(\n"
          ]
        }
      ]
    },
    {
      "cell_type": "markdown",
      "source": [
        "### Get Outliers"
      ],
      "metadata": {
        "id": "S9QwHnppvVDC"
      }
    },
    {
      "cell_type": "code",
      "source": [
        "# get the data points where anomaly = -1:\n",
        "anomalies = df.loc[df[\"anomaly\"]==-1]\n",
        "print(\"Anomalies: \\n\", anomalies)\n",
        "outliers_count = len(df[df['anomaly'] < 1])\n",
        "print(\"\\nOutlier Count: \", outliers_count)"
      ],
      "metadata": {
        "colab": {
          "base_uri": "https://localhost:8080/"
        },
        "id": "jN4D8-BfpL86",
        "outputId": "397ab813-f45c-44aa-edc9-d9f01abefe71"
      },
      "execution_count": null,
      "outputs": [
        {
          "output_type": "stream",
          "name": "stdout",
          "text": [
            "Anomalies: \n",
            "     YearsExperience    Salary    scores  anomaly\n",
            "26              9.5  116969.0 -0.002041       -1\n",
            "28             10.3  122391.0 -0.045882       -1\n",
            "29             10.5  121872.0 -0.037219       -1\n",
            "\n",
            "Outlier Count:  3\n"
          ]
        }
      ]
    },
    {
      "cell_type": "code",
      "source": [],
      "metadata": {
        "id": "nCe-I-gZs-Bv"
      },
      "execution_count": null,
      "outputs": []
    }
  ]
}
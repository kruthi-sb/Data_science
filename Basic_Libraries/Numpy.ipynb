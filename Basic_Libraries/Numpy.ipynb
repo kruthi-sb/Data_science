{
 "cells": [
  {
   "attachments": {},
   "cell_type": "markdown",
   "metadata": {},
   "source": [
    "# Welcome to Numpy!"
   ]
  },
  {
   "attachments": {},
   "cell_type": "markdown",
   "metadata": {},
   "source": [
    "## *Introduction*:\n",
    "\n",
    "*Numpy (Numerical Python) is a library used for scientific computing, linear algebra, data analysis and statistics.*\n",
    "\n",
    "Numpy has the following features:\n",
    "\n",
    "1. **High-performance array object**: NumPy arrays are stored in contiguous memory, which makes them much faster to access than Python lists.\n",
    "\n",
    "2. **Large library of mathematical functions**: NumPy provides a large library of mathematical functions for working with arrays, including basic arithmetic operations, trigonometric functions, and statistical functions.\n",
    "\n",
    "3. **Linear algebra routines**: NumPy provides a comprehensive set of linear algebra routines for working with arrays, including matrix multiplication, matrix inversion, and eigenvalue decomposition.\n",
    "\n",
    "4. **Random number generation**: NumPy provides a random number generator that can be used to generate random numbers for a variety of applications.\n",
    "\n",
    "5. **Integration with other Python libraries**: NumPy can be easily integrated with other Python libraries, such as SciPy and Pandas."
   ]
  },
  {
   "attachments": {},
   "cell_type": "markdown",
   "metadata": {},
   "source": [
    "## *Advantages over Lists*:\n",
    "\n",
    "1. Numpy arrays are much faster than lists.\n",
    "2. They contain homogeneous elements i.e. all elements of a numpy array are of same data type.\n",
    "3. Numpy arrays use less memory than lists.\n",
    "4. They support vectorized operations, while lists don’t."
   ]
  },
  {
   "attachments": {},
   "cell_type": "markdown",
   "metadata": {},
   "source": [
    "# Creation of Arrays"
   ]
  },
  {
   "attachments": {},
   "cell_type": "markdown",
   "metadata": {},
   "source": [
    "## *1D Array*:"
   ]
  },
  {
   "cell_type": "code",
   "execution_count": 16,
   "metadata": {},
   "outputs": [
    {
     "name": "stdout",
     "output_type": "stream",
     "text": [
      "using array()\n",
      "a1:  [1 2 3 5]\n",
      "a2:  [1 2 3 4 5]\n",
      "\n",
      "using arange()\n",
      "a3:  [1 3 5 7 9]\n",
      "\n",
      "using linspace()\n",
      "a4:  [ 1.    3.25  5.5   7.75 10.  ]\n",
      "\n",
      "using zeros()\n",
      "a5:  [0. 0. 0. 0. 0.]\n",
      "\n",
      "using ones()\n",
      "a6:  [1. 1. 1. 1. 1.]\n",
      "\n",
      "using random.rand()\n",
      "a7:  [0.32053644 0.15442667 0.69886269 0.11995054 0.48517591]\n",
      "\n",
      "using random.randn()\n",
      "a8:  [ 1.12527974  0.46937315 -0.01576105  2.00488095  1.6105314 ]\n",
      "\n",
      "using random.randint()\n",
      "a9:  [7 2 4 6 9]\n",
      "\n",
      "using random.seed()\n",
      "a10:  [6 9 6 1 1]\n",
      "a11:  [9 9 7 3 9]\n"
     ]
    }
   ],
   "source": [
    "import numpy as np\n",
    "\n",
    "# 1. using array()\n",
    "print(\"using array()\")\n",
    "list1 = [1,2,3,5]\n",
    "a1 = np.array(list1)\n",
    "print(\"a1: \",a1)\n",
    "\n",
    "a2 = np.array([1,2,3,4,5])\n",
    "print(\"a2: \",a2)\n",
    "\n",
    "# 2. using arange()\n",
    "print(\"\\nusing arange()\")\n",
    "a3 = np.arange(1,10,2) # start, stop, step\n",
    "print(\"a3: \",a3)\n",
    "\n",
    "# 3. using linspace()\n",
    "print(\"\\nusing linspace()\")\n",
    "a4 = np.linspace(1,10,5) # start, stop, number of elements evenly spaced between start and stop\n",
    "print(\"a4: \",a4)\n",
    "\n",
    "# 4. using zeros()\n",
    "print(\"\\nusing zeros()\")\n",
    "a5 = np.zeros(5)\n",
    "print(\"a5: \",a5)\n",
    "\n",
    "# 5. using ones()\n",
    "print(\"\\nusing ones()\")\n",
    "a6 = np.ones(5)\n",
    "print(\"a6: \",a6)\n",
    "\n",
    "# 6. using random.rand()\n",
    "print(\"\\nusing random.rand()\")\n",
    "a7 = np.random.rand(5) # 5 random numbers between 0 and 1\n",
    "print(\"a7: \",a7)\n",
    "\n",
    "# 7. using random.randn()\n",
    "print(\"\\nusing random.randn()\")\n",
    "a8 = np.random.randn(5) # 5 random numbers from normal distribution\n",
    "print(\"a8: \",a8)\n",
    "\n",
    "# 8. using random.randint()\n",
    "print(\"\\nusing random.randint()\")\n",
    "a9 = np.random.randint(1,10,5) # 5 random integers between 1 and 10\n",
    "print(\"a9: \",a9)\n",
    "\n",
    "# 9. using random.seed()\n",
    "#The np.random.seed(1) function is a useful tool for debugging \n",
    "# and for ensuring that your code produces the same results each time it is run.\n",
    "print(\"\\nusing random.seed()\")\n",
    "np.random.seed(1) # set seed to 1\n",
    "a10 = np.random.randint(1,10,5) # 5 random integers between 1 and 10\n",
    "print(\"a10: \",a10)\n",
    "\n",
    "\n",
    "np.random.seed(2) # set seed to 2, generate different random numbers for the value 2 of seed\n",
    "a11 = np.random.randint(1,10,5) # 5 random integers between 1 and 10\n",
    "print(\"a11: \",a11)\n",
    "\n",
    "\n",
    "\n",
    "\n",
    "\n",
    "\n"
   ]
  },
  {
   "attachments": {},
   "cell_type": "markdown",
   "metadata": {},
   "source": [
    "## Creation of 2D Arrays"
   ]
  },
  {
   "cell_type": "code",
   "execution_count": 2,
   "metadata": {},
   "outputs": [
    {
     "name": "stdout",
     "output_type": "stream",
     "text": [
      "[[1 3 4 5]\n",
      " [2 4 5 7]\n",
      " [5 6 7 2]]\n",
      "\n",
      "reshape\n",
      "[[1 3 4]\n",
      " [5 2 4]\n",
      " [5 7 5]\n",
      " [6 7 2]]\n",
      "\n",
      "flatten\n",
      "[1 3 4 5 2 4 5 7 5 6 7 2]\n",
      "\n",
      "slicing\n",
      "[[3 4]\n",
      " [4 5]]\n"
     ]
    }
   ],
   "source": [
    "# creation\n",
    "ar1 = np.array([[1,3,4,5],[2,4,5,7],[5,6,7,2]])\n",
    "print(ar1)\n",
    "\n",
    "# reshape\n",
    "print(\"\\nreshape\")\n",
    "ar2 = ar1.reshape(4,3) # 4 rows x 3 columns\n",
    "print(ar2)\n",
    "\n",
    "ar3 = np.array([[1,2,2,2],[2,4,9,7],[5,1,7,1]])\n",
    "\n",
    "# flatten\n",
    "print(\"\\nflatten\")\n",
    "ar4 = ar2.flatten()\n",
    "print(ar4)\n",
    "\n",
    "# slicing\n",
    "print(\"\\nslicing\")\n",
    "print(ar1[0:2,1:3]) # 0th and 1st row, 1st and 2nd column\n"
   ]
  },
  {
   "attachments": {},
   "cell_type": "markdown",
   "metadata": {},
   "source": [
    "## Arithmetic Operations on Arrays"
   ]
  },
  {
   "cell_type": "code",
   "execution_count": 3,
   "metadata": {},
   "outputs": [
    {
     "name": "stdout",
     "output_type": "stream",
     "text": [
      "\n",
      "Mathematical operations\n",
      "ar1:  [[1 3 4 5]\n",
      " [2 4 5 7]\n",
      " [5 6 7 2]]\n",
      "ar3:  [[1 2 2 2]\n",
      " [2 4 9 7]\n",
      " [5 1 7 1]]\n",
      "ar1 + ar3: \n",
      " [[ 2  5  6  7]\n",
      " [ 4  8 14 14]\n",
      " [10  7 14  3]]\n",
      "ar1 * ar3: \n",
      " [[ 1  6  8 10]\n",
      " [ 4 16 45 49]\n",
      " [25  6 49  2]]\n",
      "ar1 / ar3: \n",
      " [[1.         1.5        2.         2.5       ]\n",
      " [1.         1.         0.55555556 1.        ]\n",
      " [1.         6.         1.         2.        ]]\n",
      "ar1 ** ar3: \n",
      " [[      1       9      16      25]\n",
      " [      4     256 1953125  823543]\n",
      " [   3125       6  823543       2]]\n"
     ]
    }
   ],
   "source": [
    "# Mathematical operations\n",
    "print(\"\\nMathematical operations\")\n",
    "print(\"ar1: \",ar1)\n",
    "print(\"ar3: \",ar3)\n",
    "\n",
    "print(\"ar1 + ar3: \\n\",ar1 + ar3) # element wise addition\n",
    "print(\"ar1 * ar3: \\n\",ar1 * ar3) # element wise multiplication\n",
    "print(\"ar1 / ar3: \\n\",ar1 / ar3) # element wise division\n",
    "print(\"ar1 ** ar3: \\n\",ar1 ** ar3) # element wise exponentiation\n",
    "\n"
   ]
  },
  {
   "attachments": {},
   "cell_type": "markdown",
   "metadata": {},
   "source": [
    "# Array Functions"
   ]
  },
  {
   "attachments": {},
   "cell_type": "markdown",
   "metadata": {},
   "source": [
    "## Basic Functions"
   ]
  },
  {
   "cell_type": "code",
   "execution_count": 4,
   "metadata": {},
   "outputs": [
    {
     "name": "stdout",
     "output_type": "stream",
     "text": [
      "\n",
      "Array functions\n",
      "ar1:  [[1 3 4 5]\n",
      " [2 4 5 7]\n",
      " [5 6 7 2]]\n",
      "ar1.shape:  (3, 4)\n",
      "ar1.ndim:  2\n",
      "ar1.size:  12\n",
      "ar1.dtype:  int32\n",
      "ar1.itemsize:  4\n",
      "ar1.data:  <memory at 0x000001C8C51D8110>\n"
     ]
    }
   ],
   "source": [
    "# Array Basic functions\n",
    "print(\"\\nArray functions\")\n",
    "print(\"ar1: \",ar1)\n",
    "\n",
    "print(\"ar1.shape: \",ar1.shape) # number of rows and columns\n",
    "print(\"ar1.ndim: \",ar1.ndim) # number of dimensions\n",
    "print(\"ar1.size: \",ar1.size) # number of elements\n",
    "print(\"ar1.dtype: \",ar1.dtype) # data type\n",
    "print(\"ar1.itemsize: \",ar1.itemsize) # size of each element in bytes\n",
    "print(\"ar1.data: \",ar1.data) # buffer containing actual elements of the array\n"
   ]
  },
  {
   "attachments": {},
   "cell_type": "markdown",
   "metadata": {},
   "source": [
    "## Mathematical Functions"
   ]
  },
  {
   "cell_type": "code",
   "execution_count": 5,
   "metadata": {},
   "outputs": [
    {
     "name": "stdout",
     "output_type": "stream",
     "text": [
      "\n",
      "Math functions\n",
      "ar1:  [[1 3 4 5]\n",
      " [2 4 5 7]\n",
      " [5 6 7 2]]\n",
      "ar1.sum():  51\n",
      "ar1.sum(axis=0):  [ 8 13 16 14]\n",
      "ar1.sum(axis=1):  [13 18 20]\n",
      "ar1.min():  1\n",
      "ar1.max():  7\n",
      "ar1.mean():  4.25\n",
      "ar1.std():  1.8763883748662837\n",
      "ar1.var():  3.5208333333333335\n"
     ]
    }
   ],
   "source": [
    "# Math functions\n",
    "print(\"\\nMath functions\")\n",
    "print(\"ar1: \",ar1)\n",
    "\n",
    "print(\"ar1.sum(): \",ar1.sum()) # sum of all elements\n",
    "print(\"ar1.sum(axis=0): \",ar1.sum(axis=0)) # sum of each column\n",
    "print(\"ar1.sum(axis=1): \",ar1.sum(axis=1)) # sum of each row\n",
    "\n",
    "print(\"ar1.min(): \",ar1.min()) # minimum of all elements\n",
    "print(\"ar1.max(): \",ar1.max()) # maximum of all elements\n",
    "\n",
    "print(\"ar1.mean(): \",ar1.mean()) # mean of all elements\n",
    "#print(\"ar1.mode(): \",ar1.mode()) \n",
    "#print(\"ar1.median(): \",ar1.median()) \n",
    "print(\"ar1.std(): \",ar1.std()) # standard deviation of all elements\n",
    "print(\"ar1.var(): \",ar1.var()) # variance of all elements\n",
    "\n"
   ]
  },
  {
   "attachments": {},
   "cell_type": "markdown",
   "metadata": {},
   "source": [
    "# Array Manipulation"
   ]
  },
  {
   "attachments": {},
   "cell_type": "markdown",
   "metadata": {},
   "source": [
    "contains resize, append, transpose, concatenate, fill."
   ]
  },
  {
   "cell_type": "code",
   "execution_count": 6,
   "metadata": {},
   "outputs": [
    {
     "name": "stdout",
     "output_type": "stream",
     "text": [
      "\n",
      "Array Manipulation\n",
      "\n",
      "resize\n",
      "[[1 3 4 5 2 4]\n",
      " [5 7 5 6 7 2]]\n",
      "\n",
      "append row\n",
      "[[1 3 4 5 2 4]\n",
      " [5 7 5 6 7 2]\n",
      " [1 2 3 4 5 6]]\n",
      "\n",
      "append column\n",
      "[[1 3 4 5 2 4 1]\n",
      " [5 7 5 6 7 2 2]\n",
      " [1 2 3 4 5 6 3]]\n",
      "\n",
      "transpose\n",
      "[[1 5 1]\n",
      " [3 7 2]\n",
      " [4 5 3]\n",
      " [5 6 4]\n",
      " [2 7 5]\n",
      " [4 2 6]\n",
      " [1 2 3]]\n"
     ]
    }
   ],
   "source": [
    "# Array Manipulation\n",
    "print(\"\\nArray Manipulation\")\n",
    "ar1 = np.array([[1,3,4,5],[2,4,5,7],[5,6,7,2]])\n",
    "\n",
    "#resize\n",
    "print(\"\\nresize\")\n",
    "ar1.resize(2,6)\n",
    "print(ar1)\n",
    "\n",
    "#append\n",
    "print(\"\\nappend row\")\n",
    "ar1 = np.append(ar1,[[1,2,3,4,5,6]],axis=0) # append row\n",
    "print(ar1)\n",
    "\n",
    "print(\"\\nappend column\")\n",
    "ar1 = np.append(ar1,[[1],[2],[3]],axis=1) # append column\n",
    "print(ar1)\n",
    "\n",
    "#transpose\n",
    "print(\"\\ntranspose\")\n",
    "ar1 = ar1.transpose()\n",
    "print(ar1)\n"
   ]
  },
  {
   "cell_type": "code",
   "execution_count": 7,
   "metadata": {},
   "outputs": [
    {
     "name": "stdout",
     "output_type": "stream",
     "text": [
      "\n",
      "concatenate row wise\n",
      "[[1 3 4 5]\n",
      " [2 4 5 7]\n",
      " [5 6 7 2]\n",
      " [1 2 2 2]\n",
      " [2 4 9 7]\n",
      " [5 1 7 1]]\n",
      "\n",
      "concatenate column wise\n",
      "[[1 3 4 5 1 2 2 2]\n",
      " [2 4 5 7 2 4 9 7]\n",
      " [5 6 7 2 5 1 7 1]]\n",
      "\n",
      "fill with a constant value\n",
      "[[2 2 2 2]\n",
      " [2 2 2 2]\n",
      " [2 2 2 2]]\n"
     ]
    }
   ],
   "source": [
    "#concatenate\n",
    "print(\"\\nconcatenate row wise\")\n",
    "ar1 = np.array([[1,3,4,5],[2,4,5,7],[5,6,7,2]])\n",
    "ar2 = np.array([[1,2,2,2],[2,4,9,7],[5,1,7,1]])\n",
    "ar3 = np.concatenate((ar1,ar2),axis=0) # concatenate row wise\n",
    "print(ar3)\n",
    "\n",
    "print(\"\\nconcatenate column wise\")\n",
    "ar4 = np.concatenate((ar1,ar2),axis=1) # concatenate column wise\n",
    "print(ar4)\n",
    "\n",
    "#fill with a constant value\n",
    "print(\"\\nfill with a constant value\")\n",
    "ar1.fill(2)\n",
    "print(ar1)"
   ]
  },
  {
   "attachments": {},
   "cell_type": "markdown",
   "metadata": {},
   "source": [
    "# Splitting Arrays"
   ]
  },
  {
   "attachments": {},
   "cell_type": "markdown",
   "metadata": {},
   "source": [
    "contains split, hsplit, vsplit."
   ]
  },
  {
   "cell_type": "code",
   "execution_count": 8,
   "metadata": {},
   "outputs": [
    {
     "name": "stdout",
     "output_type": "stream",
     "text": [
      "\n",
      "hsplit\n",
      "[array([[1, 3],\n",
      "       [2, 4],\n",
      "       [5, 6]]), array([[4, 5],\n",
      "       [5, 7],\n",
      "       [7, 2]])]\n",
      "\n",
      "\n",
      "\n",
      "vsplit\n",
      "[array([[1, 3, 4, 5]]), array([[2, 4, 5, 7]]), array([[5, 6, 7, 2]])]\n",
      "\n",
      "\n",
      "\n",
      "split\n",
      "[array([[1, 3, 4, 5]]), array([[2, 4, 5, 7]]), array([[5, 6, 7, 2]])]\n"
     ]
    }
   ],
   "source": [
    "# spliting arrays using\n",
    "# 1. hsplit()\n",
    "print(\"\\nhsplit\")\n",
    "ar1 = np.array([[1,3,4,5],[2,4,5,7],[5,6,7,2]])\n",
    "ar2 = np.hsplit(ar1,2) # split into 2 equal parts column wise\n",
    "print(ar2)\n",
    "print(\"\\n\")\n",
    "\n",
    "# 2. vsplit()\n",
    "print(\"\\nvsplit\")\n",
    "ar1 = np.array([[1,3,4,5],[2,4,5,7],[5,6,7,2]])\n",
    "ar2 = np.vsplit(ar1,3) # split into 3 equal parts row wise\n",
    "print(ar2)\n",
    "print(\"\\n\")\n",
    "\n",
    "\n",
    "# 4. split()\n",
    "print(\"\\nsplit\")\n",
    "ar1 = np.array([[1,3,4,5],[2,4,5,7],[5,6,7,2]])\n",
    "ar2 = np.split(ar1,3) # split into 3 equal parts row wise\n",
    "print(ar2)\n"
   ]
  },
  {
   "cell_type": "code",
   "execution_count": null,
   "metadata": {},
   "outputs": [],
   "source": []
  }
 ],
 "metadata": {
  "kernelspec": {
   "display_name": "Python 3",
   "language": "python",
   "name": "python3"
  },
  "language_info": {
   "codemirror_mode": {
    "name": "ipython",
    "version": 3
   },
   "file_extension": ".py",
   "mimetype": "text/x-python",
   "name": "python",
   "nbconvert_exporter": "python",
   "pygments_lexer": "ipython3",
   "version": "3.11.1"
  },
  "orig_nbformat": 4
 },
 "nbformat": 4,
 "nbformat_minor": 2
}
